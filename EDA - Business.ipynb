{
 "cells": [
  {
   "cell_type": "code",
   "execution_count": 96,
   "metadata": {
    "collapsed": true
   },
   "outputs": [],
   "source": [
    "import sys\n",
    "from collections import defaultdict\n",
    "\n",
    "import pandas as pd\n",
    "import matplotlib.pyplot as plt\n",
    "%matplotlib inline\n",
    "import sqlite3 as sql"
   ]
  },
  {
   "cell_type": "code",
   "execution_count": 97,
   "metadata": {
    "collapsed": true
   },
   "outputs": [],
   "source": [
    "conn = sql.connect(\"dataset/database.sqlite\")"
   ]
  },
  {
   "cell_type": "code",
   "execution_count": 98,
   "metadata": {},
   "outputs": [
    {
     "data": {
      "text/html": [
       "<div>\n",
       "<style scoped>\n",
       "    .dataframe tbody tr th:only-of-type {\n",
       "        vertical-align: middle;\n",
       "    }\n",
       "\n",
       "    .dataframe tbody tr th {\n",
       "        vertical-align: top;\n",
       "    }\n",
       "\n",
       "    .dataframe thead th {\n",
       "        text-align: right;\n",
       "    }\n",
       "</style>\n",
       "<table border=\"1\" class=\"dataframe\">\n",
       "  <thead>\n",
       "    <tr style=\"text-align: right;\">\n",
       "      <th></th>\n",
       "      <th>id</th>\n",
       "      <th>name</th>\n",
       "      <th>neighborhood</th>\n",
       "      <th>address</th>\n",
       "      <th>city</th>\n",
       "      <th>state</th>\n",
       "      <th>postal_code</th>\n",
       "      <th>latitude</th>\n",
       "      <th>longitude</th>\n",
       "      <th>stars</th>\n",
       "      <th>review_count</th>\n",
       "      <th>is_open</th>\n",
       "    </tr>\n",
       "  </thead>\n",
       "  <tbody>\n",
       "    <tr>\n",
       "      <th>0</th>\n",
       "      <td>--6MefnULPED_I942VcFNA</td>\n",
       "      <td>John's Chinese BBQ Restaurant</td>\n",
       "      <td></td>\n",
       "      <td>328 Highway 7 E, Chalmers Gate 11, Unit 10</td>\n",
       "      <td>Richmond Hill</td>\n",
       "      <td>ON</td>\n",
       "      <td>L4B 3P7</td>\n",
       "      <td>43.8409</td>\n",
       "      <td>-79.3996</td>\n",
       "      <td>3.0</td>\n",
       "      <td>30</td>\n",
       "      <td>1</td>\n",
       "    </tr>\n",
       "    <tr>\n",
       "      <th>1</th>\n",
       "      <td>--7zmmkVg-IMGaXbuVd0SQ</td>\n",
       "      <td>Primal Brewery</td>\n",
       "      <td></td>\n",
       "      <td>16432 Old Statesville Rd</td>\n",
       "      <td>Huntersville</td>\n",
       "      <td>NC</td>\n",
       "      <td>28078</td>\n",
       "      <td>35.4371</td>\n",
       "      <td>-80.8437</td>\n",
       "      <td>4.0</td>\n",
       "      <td>42</td>\n",
       "      <td>1</td>\n",
       "    </tr>\n",
       "    <tr>\n",
       "      <th>2</th>\n",
       "      <td>--8LPVSo5i0Oo61X01sV9A</td>\n",
       "      <td>Valley Bone and Joint Specialists</td>\n",
       "      <td></td>\n",
       "      <td>3941 E Baseline Rd, Ste 102</td>\n",
       "      <td>Gilbert</td>\n",
       "      <td>AZ</td>\n",
       "      <td>85234</td>\n",
       "      <td>33.3795</td>\n",
       "      <td>-111.7280</td>\n",
       "      <td>4.5</td>\n",
       "      <td>3</td>\n",
       "      <td>1</td>\n",
       "    </tr>\n",
       "    <tr>\n",
       "      <th>3</th>\n",
       "      <td>--9e1ONYQuAa-CB_Rrw7Tw</td>\n",
       "      <td>Delmonico Steakhouse</td>\n",
       "      <td>The Strip</td>\n",
       "      <td>3355 Las Vegas Blvd S</td>\n",
       "      <td>Las Vegas</td>\n",
       "      <td>NV</td>\n",
       "      <td>89109</td>\n",
       "      <td>36.1232</td>\n",
       "      <td>-115.1690</td>\n",
       "      <td>4.0</td>\n",
       "      <td>1389</td>\n",
       "      <td>1</td>\n",
       "    </tr>\n",
       "    <tr>\n",
       "      <th>4</th>\n",
       "      <td>--9QQLMTbFzLJ_oT-ON3Xw</td>\n",
       "      <td>Great Clips</td>\n",
       "      <td></td>\n",
       "      <td>1835 E Guadalupe Rd, Ste 106</td>\n",
       "      <td>Tempe</td>\n",
       "      <td>AZ</td>\n",
       "      <td>85283</td>\n",
       "      <td>33.3617</td>\n",
       "      <td>-111.9100</td>\n",
       "      <td>3.0</td>\n",
       "      <td>9</td>\n",
       "      <td>1</td>\n",
       "    </tr>\n",
       "  </tbody>\n",
       "</table>\n",
       "</div>"
      ],
      "text/plain": [
       "                       id                               name neighborhood  \\\n",
       "0  --6MefnULPED_I942VcFNA      John's Chinese BBQ Restaurant                \n",
       "1  --7zmmkVg-IMGaXbuVd0SQ                     Primal Brewery                \n",
       "2  --8LPVSo5i0Oo61X01sV9A  Valley Bone and Joint Specialists                \n",
       "3  --9e1ONYQuAa-CB_Rrw7Tw               Delmonico Steakhouse    The Strip   \n",
       "4  --9QQLMTbFzLJ_oT-ON3Xw                        Great Clips                \n",
       "\n",
       "                                      address           city state  \\\n",
       "0  328 Highway 7 E, Chalmers Gate 11, Unit 10  Richmond Hill    ON   \n",
       "1                    16432 Old Statesville Rd   Huntersville    NC   \n",
       "2                 3941 E Baseline Rd, Ste 102        Gilbert    AZ   \n",
       "3                       3355 Las Vegas Blvd S      Las Vegas    NV   \n",
       "4                1835 E Guadalupe Rd, Ste 106          Tempe    AZ   \n",
       "\n",
       "  postal_code  latitude  longitude  stars  review_count  is_open  \n",
       "0     L4B 3P7   43.8409   -79.3996    3.0            30        1  \n",
       "1       28078   35.4371   -80.8437    4.0            42        1  \n",
       "2       85234   33.3795  -111.7280    4.5             3        1  \n",
       "3       89109   36.1232  -115.1690    4.0          1389        1  \n",
       "4       85283   33.3617  -111.9100    3.0             9        1  "
      ]
     },
     "execution_count": 98,
     "metadata": {},
     "output_type": "execute_result"
    }
   ],
   "source": [
    "df = pd.read_sql_query(\"select * from business\", conn)\n",
    "df.head()"
   ]
  },
  {
   "cell_type": "markdown",
   "metadata": {},
   "source": [
    "### Business Ratings: Single Variable Analysis"
   ]
  },
  {
   "cell_type": "code",
   "execution_count": 99,
   "metadata": {},
   "outputs": [
    {
     "data": {
      "text/plain": [
       "count    156639.000000\n",
       "mean          3.647154\n",
       "std           0.977640\n",
       "min           1.000000\n",
       "25%           3.000000\n",
       "50%           3.500000\n",
       "75%           4.500000\n",
       "max           5.000000\n",
       "Name: stars, dtype: float64"
      ]
     },
     "execution_count": 99,
     "metadata": {},
     "output_type": "execute_result"
    }
   ],
   "source": [
    "df.stars.describe()"
   ]
  },
  {
   "cell_type": "markdown",
   "metadata": {},
   "source": [
    "Notice that the mean (3.65) and median (3.5) is above the average of the max and min (3.0)"
   ]
  },
  {
   "cell_type": "code",
   "execution_count": 100,
   "metadata": {},
   "outputs": [
    {
     "data": {
      "image/png": "[encoded data removed]",
      "text/plain": [
       "<matplotlib.figure.Figure at 0x12fd1a198>"
      ]
     },
     "metadata": {},
     "output_type": "display_data"
    }
   ],
   "source": [
    "plt.hist(df.stars, bins=[1.0, 1.5, 2.0, 2.5, 3.0, 3.5, 4.0, 4.5, 5.0, 5.5])\n",
    "plt.show()"
   ]
  },
  {
   "cell_type": "markdown",
   "metadata": {},
   "source": [
    "### Business Total Number of Reviews: Single Variable Analysis"
   ]
  },
  {
   "cell_type": "code",
   "execution_count": 101,
   "metadata": {},
   "outputs": [
    {
     "data": {
      "text/plain": [
       "count    156639.000000\n",
       "mean         30.238159\n",
       "std          96.486631\n",
       "min           3.000000\n",
       "25%           4.000000\n",
       "50%           9.000000\n",
       "75%          23.000000\n",
       "max        6979.000000\n",
       "Name: review_count, dtype: float64"
      ]
     },
     "execution_count": 101,
     "metadata": {},
     "output_type": "execute_result"
    }
   ],
   "source": [
    "df.review_count.describe()"
   ]
  },
  {
   "cell_type": "markdown",
   "metadata": {},
   "source": [
    "Most business have under 25 reviews"
   ]
  },
  {
   "cell_type": "code",
   "execution_count": 102,
   "metadata": {},
   "outputs": [
    {
     "data": {
      "image/png": "[encoded data removed]",
      "text/plain": [
       "<matplotlib.figure.Figure at 0x1523f4978>"
      ]
     },
     "metadata": {},
     "output_type": "display_data"
    }
   ],
   "source": [
    "plt.figure(figsize=(20,15))\n",
    "\n",
    "num_reviews = df.review_count\n",
    "\n",
    "plt.subplot(221)\n",
    "plt.hist(list(filter(lambda x: x < 100, num_reviews)), bins=20)\n",
    "plt.title(\"Number of reviews between 0 and 100\", fontsize=20)\n",
    "plt.subplot(222)\n",
    "plt.hist(list(filter(lambda x: x > 100 and x < 1000, num_reviews)))\n",
    "plt.title(\"Number of reviews between 100 and 1000\", fontsize=20)\n",
    "plt.subplot(223)\n",
    "plt.hist(list(filter(lambda x: x > 1000, num_reviews)))\n",
    "plt.title(\"Number of reviews over 1000\", fontsize=20)\n",
    "plt.subplot(224)\n",
    "plt.hist(num_reviews, bins = 50)\n",
    "plt.title(\"All review counts\", fontsize=20)\n",
    "plt.show()"
   ]
  },
  {
   "cell_type": "markdown",
   "metadata": {},
   "source": [
    "### Creating _Number of Tips per Business_ Variable"
   ]
  },
  {
   "cell_type": "code",
   "execution_count": 103,
   "metadata": {},
   "outputs": [
    {
     "data": {
      "text/html": [
       "<div>\n",
       "<style scoped>\n",
       "    .dataframe tbody tr th:only-of-type {\n",
       "        vertical-align: middle;\n",
       "    }\n",
       "\n",
       "    .dataframe tbody tr th {\n",
       "        vertical-align: top;\n",
       "    }\n",
       "\n",
       "    .dataframe thead th {\n",
       "        text-align: right;\n",
       "    }\n",
       "</style>\n",
       "<table border=\"1\" class=\"dataframe\">\n",
       "  <thead>\n",
       "    <tr style=\"text-align: right;\">\n",
       "      <th></th>\n",
       "      <th>user_id</th>\n",
       "      <th>business_id</th>\n",
       "      <th>text</th>\n",
       "      <th>date</th>\n",
       "      <th>likes</th>\n",
       "    </tr>\n",
       "  </thead>\n",
       "  <tbody>\n",
       "    <tr>\n",
       "      <th>0</th>\n",
       "      <td>zcTZk7OG8ovAmh_fenH21g</td>\n",
       "      <td>tJRDll5yqpZwehenzE2cSg</td>\n",
       "      <td>Get here early enough to have dinner.</td>\n",
       "      <td>2012-07-15 00:00:00</td>\n",
       "      <td>0</td>\n",
       "    </tr>\n",
       "    <tr>\n",
       "      <th>1</th>\n",
       "      <td>ZcLKXikTHYOnYt5VYRO5sg</td>\n",
       "      <td>jH19V2I9fIslnNhDzPmdkA</td>\n",
       "      <td>Great breakfast large portions and friendly wa...</td>\n",
       "      <td>2015-08-12 00:00:00</td>\n",
       "      <td>0</td>\n",
       "    </tr>\n",
       "    <tr>\n",
       "      <th>2</th>\n",
       "      <td>oaYhjqBbh18ZhU0bpyzSuw</td>\n",
       "      <td>dAa0hB2yrnHzVmsCkN4YvQ</td>\n",
       "      <td>Nice place. Great staff.  A fixture in the tow...</td>\n",
       "      <td>2014-06-20 00:00:00</td>\n",
       "      <td>0</td>\n",
       "    </tr>\n",
       "    <tr>\n",
       "      <th>3</th>\n",
       "      <td>ulQ8Nyj7jCUR8M83SUMoRQ</td>\n",
       "      <td>dAa0hB2yrnHzVmsCkN4YvQ</td>\n",
       "      <td>Happy hour 5-7 Monday - Friday</td>\n",
       "      <td>2016-10-12 00:00:00</td>\n",
       "      <td>0</td>\n",
       "    </tr>\n",
       "    <tr>\n",
       "      <th>4</th>\n",
       "      <td>ulQ8Nyj7jCUR8M83SUMoRQ</td>\n",
       "      <td>ESzO3Av0b1_TzKOiqzbQYQ</td>\n",
       "      <td>Parking is a premium, keep circling, you will ...</td>\n",
       "      <td>2017-01-28 00:00:00</td>\n",
       "      <td>0</td>\n",
       "    </tr>\n",
       "  </tbody>\n",
       "</table>\n",
       "</div>"
      ],
      "text/plain": [
       "                  user_id             business_id  \\\n",
       "0  zcTZk7OG8ovAmh_fenH21g  tJRDll5yqpZwehenzE2cSg   \n",
       "1  ZcLKXikTHYOnYt5VYRO5sg  jH19V2I9fIslnNhDzPmdkA   \n",
       "2  oaYhjqBbh18ZhU0bpyzSuw  dAa0hB2yrnHzVmsCkN4YvQ   \n",
       "3  ulQ8Nyj7jCUR8M83SUMoRQ  dAa0hB2yrnHzVmsCkN4YvQ   \n",
       "4  ulQ8Nyj7jCUR8M83SUMoRQ  ESzO3Av0b1_TzKOiqzbQYQ   \n",
       "\n",
       "                                                text                 date  \\\n",
       "0              Get here early enough to have dinner.  2012-07-15 00:00:00   \n",
       "1  Great breakfast large portions and friendly wa...  2015-08-12 00:00:00   \n",
       "2  Nice place. Great staff.  A fixture in the tow...  2014-06-20 00:00:00   \n",
       "3                     Happy hour 5-7 Monday - Friday  2016-10-12 00:00:00   \n",
       "4  Parking is a premium, keep circling, you will ...  2017-01-28 00:00:00   \n",
       "\n",
       "   likes  \n",
       "0      0  \n",
       "1      0  \n",
       "2      0  \n",
       "3      0  \n",
       "4      0  "
      ]
     },
     "execution_count": 103,
     "metadata": {},
     "output_type": "execute_result"
    }
   ],
   "source": [
    "df_tips = pd.read_sql_query(\"select * from tip\", conn)\n",
    "df_tips.head()"
   ]
  },
  {
   "cell_type": "code",
   "execution_count": 104,
   "metadata": {
    "collapsed": true
   },
   "outputs": [],
   "source": [
    "tips_by_business_col = list(df_tips.business_id)\n",
    "del df_tips"
   ]
  },
  {
   "cell_type": "code",
   "execution_count": 105,
   "metadata": {
    "collapsed": true
   },
   "outputs": [],
   "source": [
    "tip_counts = defaultdict(int)\n",
    "for bus in tips_by_business_col:\n",
    "    tip_counts[bus] += 1"
   ]
  },
  {
   "cell_type": "markdown",
   "metadata": {},
   "source": [
    "#### Print out number of businesses that don't have a tip"
   ]
  },
  {
   "cell_type": "code",
   "execution_count": 106,
   "metadata": {},
   "outputs": [
    {
     "name": "stdout",
     "output_type": "stream",
     "text": [
      "156639\n"
     ]
    }
   ],
   "source": [
    "businesses = set(df.id)\n",
    "tip_bus = set(tip_counts.keys())\n",
    "print(len(businesses))"
   ]
  },
  {
   "cell_type": "code",
   "execution_count": 107,
   "metadata": {},
   "outputs": [
    {
     "name": "stdout",
     "output_type": "stream",
     "text": [
      "Number of business absent from 'business': 52227\n"
     ]
    }
   ],
   "source": [
    "total_not_included = 0\n",
    "for bus in businesses:\n",
    "    if not (bus in tip_bus):\n",
    "        total_not_included += 1\n",
    "print(\"Number of business absent from 'business':\", total_not_included)"
   ]
  },
  {
   "cell_type": "code",
   "execution_count": 108,
   "metadata": {},
   "outputs": [
    {
     "data": {
      "text/html": [
       "<div>\n",
       "<style scoped>\n",
       "    .dataframe tbody tr th:only-of-type {\n",
       "        vertical-align: middle;\n",
       "    }\n",
       "\n",
       "    .dataframe tbody tr th {\n",
       "        vertical-align: top;\n",
       "    }\n",
       "\n",
       "    .dataframe thead th {\n",
       "        text-align: right;\n",
       "    }\n",
       "</style>\n",
       "<table border=\"1\" class=\"dataframe\">\n",
       "  <thead>\n",
       "    <tr style=\"text-align: right;\">\n",
       "      <th></th>\n",
       "      <th>id</th>\n",
       "      <th>tip_count</th>\n",
       "    </tr>\n",
       "  </thead>\n",
       "  <tbody>\n",
       "    <tr>\n",
       "      <th>0</th>\n",
       "      <td>tJRDll5yqpZwehenzE2cSg</td>\n",
       "      <td>1</td>\n",
       "    </tr>\n",
       "    <tr>\n",
       "      <th>1</th>\n",
       "      <td>jH19V2I9fIslnNhDzPmdkA</td>\n",
       "      <td>1</td>\n",
       "    </tr>\n",
       "    <tr>\n",
       "      <th>2</th>\n",
       "      <td>dAa0hB2yrnHzVmsCkN4YvQ</td>\n",
       "      <td>3</td>\n",
       "    </tr>\n",
       "    <tr>\n",
       "      <th>3</th>\n",
       "      <td>ESzO3Av0b1_TzKOiqzbQYQ</td>\n",
       "      <td>71</td>\n",
       "    </tr>\n",
       "    <tr>\n",
       "      <th>4</th>\n",
       "      <td>k7WRPbDd7rztjHcGGkEjlw</td>\n",
       "      <td>11</td>\n",
       "    </tr>\n",
       "  </tbody>\n",
       "</table>\n",
       "</div>"
      ],
      "text/plain": [
       "                       id  tip_count\n",
       "0  tJRDll5yqpZwehenzE2cSg          1\n",
       "1  jH19V2I9fIslnNhDzPmdkA          1\n",
       "2  dAa0hB2yrnHzVmsCkN4YvQ          3\n",
       "3  ESzO3Av0b1_TzKOiqzbQYQ         71\n",
       "4  k7WRPbDd7rztjHcGGkEjlw         11"
      ]
     },
     "execution_count": 108,
     "metadata": {},
     "output_type": "execute_result"
    }
   ],
   "source": [
    "l = [(k, v) for (k, v) in tip_counts.items()]\n",
    "\n",
    "df_total = pd.DataFrame(l)\n",
    "df_total.columns = [\"id\", \"tip_count\"]\n",
    "df_total.head()"
   ]
  },
  {
   "cell_type": "code",
   "execution_count": 109,
   "metadata": {},
   "outputs": [
    {
     "data": {
      "text/plain": [
       "(156639, 12)"
      ]
     },
     "execution_count": 109,
     "metadata": {},
     "output_type": "execute_result"
    }
   ],
   "source": [
    "df.shape"
   ]
  },
  {
   "cell_type": "code",
   "execution_count": 110,
   "metadata": {},
   "outputs": [
    {
     "data": {
      "text/html": [
       "<div>\n",
       "<style scoped>\n",
       "    .dataframe tbody tr th:only-of-type {\n",
       "        vertical-align: middle;\n",
       "    }\n",
       "\n",
       "    .dataframe tbody tr th {\n",
       "        vertical-align: top;\n",
       "    }\n",
       "\n",
       "    .dataframe thead th {\n",
       "        text-align: right;\n",
       "    }\n",
       "</style>\n",
       "<table border=\"1\" class=\"dataframe\">\n",
       "  <thead>\n",
       "    <tr style=\"text-align: right;\">\n",
       "      <th></th>\n",
       "      <th>id</th>\n",
       "      <th>name</th>\n",
       "      <th>neighborhood</th>\n",
       "      <th>address</th>\n",
       "      <th>city</th>\n",
       "      <th>state</th>\n",
       "      <th>postal_code</th>\n",
       "      <th>latitude</th>\n",
       "      <th>longitude</th>\n",
       "      <th>stars</th>\n",
       "      <th>review_count</th>\n",
       "      <th>is_open</th>\n",
       "      <th>tip_count</th>\n",
       "    </tr>\n",
       "  </thead>\n",
       "  <tbody>\n",
       "    <tr>\n",
       "      <th>0</th>\n",
       "      <td>--6MefnULPED_I942VcFNA</td>\n",
       "      <td>John's Chinese BBQ Restaurant</td>\n",
       "      <td></td>\n",
       "      <td>328 Highway 7 E, Chalmers Gate 11, Unit 10</td>\n",
       "      <td>Richmond Hill</td>\n",
       "      <td>ON</td>\n",
       "      <td>L4B 3P7</td>\n",
       "      <td>43.8409</td>\n",
       "      <td>-79.3996</td>\n",
       "      <td>3.0</td>\n",
       "      <td>30</td>\n",
       "      <td>1</td>\n",
       "      <td>12.0</td>\n",
       "    </tr>\n",
       "    <tr>\n",
       "      <th>1</th>\n",
       "      <td>--7zmmkVg-IMGaXbuVd0SQ</td>\n",
       "      <td>Primal Brewery</td>\n",
       "      <td></td>\n",
       "      <td>16432 Old Statesville Rd</td>\n",
       "      <td>Huntersville</td>\n",
       "      <td>NC</td>\n",
       "      <td>28078</td>\n",
       "      <td>35.4371</td>\n",
       "      <td>-80.8437</td>\n",
       "      <td>4.0</td>\n",
       "      <td>42</td>\n",
       "      <td>1</td>\n",
       "      <td>10.0</td>\n",
       "    </tr>\n",
       "    <tr>\n",
       "      <th>2</th>\n",
       "      <td>--8LPVSo5i0Oo61X01sV9A</td>\n",
       "      <td>Valley Bone and Joint Specialists</td>\n",
       "      <td></td>\n",
       "      <td>3941 E Baseline Rd, Ste 102</td>\n",
       "      <td>Gilbert</td>\n",
       "      <td>AZ</td>\n",
       "      <td>85234</td>\n",
       "      <td>33.3795</td>\n",
       "      <td>-111.7280</td>\n",
       "      <td>4.5</td>\n",
       "      <td>3</td>\n",
       "      <td>1</td>\n",
       "      <td>NaN</td>\n",
       "    </tr>\n",
       "    <tr>\n",
       "      <th>3</th>\n",
       "      <td>--9e1ONYQuAa-CB_Rrw7Tw</td>\n",
       "      <td>Delmonico Steakhouse</td>\n",
       "      <td>The Strip</td>\n",
       "      <td>3355 Las Vegas Blvd S</td>\n",
       "      <td>Las Vegas</td>\n",
       "      <td>NV</td>\n",
       "      <td>89109</td>\n",
       "      <td>36.1232</td>\n",
       "      <td>-115.1690</td>\n",
       "      <td>4.0</td>\n",
       "      <td>1389</td>\n",
       "      <td>1</td>\n",
       "      <td>144.0</td>\n",
       "    </tr>\n",
       "    <tr>\n",
       "      <th>4</th>\n",
       "      <td>--9QQLMTbFzLJ_oT-ON3Xw</td>\n",
       "      <td>Great Clips</td>\n",
       "      <td></td>\n",
       "      <td>1835 E Guadalupe Rd, Ste 106</td>\n",
       "      <td>Tempe</td>\n",
       "      <td>AZ</td>\n",
       "      <td>85283</td>\n",
       "      <td>33.3617</td>\n",
       "      <td>-111.9100</td>\n",
       "      <td>3.0</td>\n",
       "      <td>9</td>\n",
       "      <td>1</td>\n",
       "      <td>2.0</td>\n",
       "    </tr>\n",
       "  </tbody>\n",
       "</table>\n",
       "</div>"
      ],
      "text/plain": [
       "                       id                               name neighborhood  \\\n",
       "0  --6MefnULPED_I942VcFNA      John's Chinese BBQ Restaurant                \n",
       "1  --7zmmkVg-IMGaXbuVd0SQ                     Primal Brewery                \n",
       "2  --8LPVSo5i0Oo61X01sV9A  Valley Bone and Joint Specialists                \n",
       "3  --9e1ONYQuAa-CB_Rrw7Tw               Delmonico Steakhouse    The Strip   \n",
       "4  --9QQLMTbFzLJ_oT-ON3Xw                        Great Clips                \n",
       "\n",
       "                                      address           city state  \\\n",
       "0  328 Highway 7 E, Chalmers Gate 11, Unit 10  Richmond Hill    ON   \n",
       "1                    16432 Old Statesville Rd   Huntersville    NC   \n",
       "2                 3941 E Baseline Rd, Ste 102        Gilbert    AZ   \n",
       "3                       3355 Las Vegas Blvd S      Las Vegas    NV   \n",
       "4                1835 E Guadalupe Rd, Ste 106          Tempe    AZ   \n",
       "\n",
       "  postal_code  latitude  longitude  stars  review_count  is_open  tip_count  \n",
       "0     L4B 3P7   43.8409   -79.3996    3.0            30        1       12.0  \n",
       "1       28078   35.4371   -80.8437    4.0            42        1       10.0  \n",
       "2       85234   33.3795  -111.7280    4.5             3        1        NaN  \n",
       "3       89109   36.1232  -115.1690    4.0          1389        1      144.0  \n",
       "4       85283   33.3617  -111.9100    3.0             9        1        2.0  "
      ]
     },
     "execution_count": 110,
     "metadata": {},
     "output_type": "execute_result"
    }
   ],
   "source": [
    "merged = pd.merge(left=df,right=df_total, how='left', \n",
    "                       left_on='id', right_on='id')\n",
    "merged.head()"
   ]
  },
  {
   "cell_type": "code",
   "execution_count": 111,
   "metadata": {},
   "outputs": [
    {
     "data": {
      "text/plain": [
       "(156639, 13)"
      ]
     },
     "execution_count": 111,
     "metadata": {},
     "output_type": "execute_result"
    }
   ],
   "source": [
    "merged.shape"
   ]
  },
  {
   "cell_type": "markdown",
   "metadata": {},
   "source": [
    "### Busines Tip Count: Single Variable Analysis"
   ]
  },
  {
   "cell_type": "code",
   "execution_count": 112,
   "metadata": {},
   "outputs": [
    {
     "data": {
      "text/plain": [
       "count    104412.000000\n",
       "mean          9.853293\n",
       "std          32.016894\n",
       "min           1.000000\n",
       "25%           1.000000\n",
       "50%           3.000000\n",
       "75%           8.000000\n",
       "max        3444.000000\n",
       "dtype: float64"
      ]
     },
     "execution_count": 112,
     "metadata": {},
     "output_type": "execute_result"
    }
   ],
   "source": [
    "tip_nums = pd.Series(list(tip_counts.values()))\n",
    "tip_nums.describe()"
   ]
  },
  {
   "cell_type": "code",
   "execution_count": 113,
   "metadata": {},
   "outputs": [
    {
     "data": {
      "image/png": "[encoded data removed]",
      "text/plain": [
       "<matplotlib.figure.Figure at 0x1308c7cf8>"
      ]
     },
     "metadata": {},
     "output_type": "display_data"
    }
   ],
   "source": [
    "plt.figure(figsize=(20,15))\n",
    "\n",
    "plt.subplot(221)\n",
    "plt.hist(list(filter(lambda x: x < 100, tip_nums)), bins=20)\n",
    "plt.title(\"Number of tips between 0 and 100\", fontsize=20)\n",
    "plt.subplot(222)\n",
    "plt.hist(list(filter(lambda x: x > 100 and x < 1000, tip_nums)))\n",
    "plt.title(\"Number of tips between 100 and 1000\", fontsize=20)\n",
    "plt.subplot(223)\n",
    "plt.hist(list(filter(lambda x: x > 1000, tip_nums)))\n",
    "plt.title(\"Number of tips over 1000\", fontsize=20)\n",
    "plt.subplot(224)\n",
    "plt.hist(tip_nums, bins = 50)\n",
    "plt.title(\"All tips counts\", fontsize=20)\n",
    "plt.show()"
   ]
  },
  {
   "cell_type": "markdown",
   "metadata": {},
   "source": [
    "### Business Rating vs. Business Number of Reviews"
   ]
  },
  {
   "cell_type": "code",
   "execution_count": 114,
   "metadata": {},
   "outputs": [
    {
     "data": {
      "image/png": "[encoded data removed]",
      "text/plain": [
       "<matplotlib.figure.Figure at 0x1651740b8>"
      ]
     },
     "metadata": {},
     "output_type": "display_data"
    }
   ],
   "source": [
    "plt.figure(figsize=(10,10))\n",
    "plt.scatter(temp_df.stars, temp_df.review_count)\n",
    "plt.xlabel(\"Average Rating\")\n",
    "plt.ylabel(\"Review count\")\n",
    "plt.show()"
   ]
  },
  {
   "cell_type": "markdown",
   "metadata": {},
   "source": [
    "### TODO: Evaluating distribution of review count by rating buckets"
   ]
  },
  {
   "cell_type": "markdown",
   "metadata": {},
   "source": [
    "### Business Number of Tips vs. Business Number of Reviews"
   ]
  },
  {
   "cell_type": "code",
   "execution_count": 115,
   "metadata": {
    "collapsed": true
   },
   "outputs": [],
   "source": [
    "merged_dropped = merged.dropna()"
   ]
  },
  {
   "cell_type": "code",
   "execution_count": 116,
   "metadata": {},
   "outputs": [
    {
     "data": {
      "text/plain": [
       "Text(0,0.5,'Tip count')"
      ]
     },
     "execution_count": 116,
     "metadata": {},
     "output_type": "execute_result"
    },
    {
     "data": {
      "image/png": "[encoded data removed]",
      "text/plain": [
       "<matplotlib.figure.Figure at 0x165174080>"
      ]
     },
     "metadata": {},
     "output_type": "display_data"
    }
   ],
   "source": [
    "plt.scatter(merged_dropped.review_count, merged_dropped.tip_count)\n",
    "plt.xlabel(\"Review Count\")\n",
    "plt.ylabel(\"Tip count\")"
   ]
  },
  {
   "cell_type": "markdown",
   "metadata": {},
   "source": [
    "#### Number of tips and Number of reviews is highly correlated"
   ]
  },
  {
   "cell_type": "code",
   "execution_count": 117,
   "metadata": {},
   "outputs": [
    {
     "data": {
      "text/plain": [
       "0.83668047257953382"
      ]
     },
     "execution_count": 117,
     "metadata": {},
     "output_type": "execute_result"
    }
   ],
   "source": [
    "merged_dropped.review_count.corr(merged_dropped.tip_count)"
   ]
  },
  {
   "cell_type": "markdown",
   "metadata": {},
   "source": [
    "### Tip Count vs. Average Rating"
   ]
  },
  {
   "cell_type": "code",
   "execution_count": 118,
   "metadata": {},
   "outputs": [
    {
     "data": {
      "image/png": "[encoded data removed]",
      "text/plain": [
       "<matplotlib.figure.Figure at 0x165174a20>"
      ]
     },
     "metadata": {},
     "output_type": "display_data"
    }
   ],
   "source": [
    "plt.figure(figsize=(5,5))\n",
    "plt.scatter(merged_dropped.stars, merged_dropped.tip_count)\n",
    "plt.xlabel(\"Average Rating\")\n",
    "plt.ylabel(\"Tip count\")\n",
    "plt.show()"
   ]
  },
  {
   "cell_type": "markdown",
   "metadata": {},
   "source": [
    "### Create Business Photos Count"
   ]
  },
  {
   "cell_type": "code",
   "execution_count": 133,
   "metadata": {},
   "outputs": [
    {
     "data": {
      "text/html": [
       "<div>\n",
       "<style scoped>\n",
       "    .dataframe tbody tr th:only-of-type {\n",
       "        vertical-align: middle;\n",
       "    }\n",
       "\n",
       "    .dataframe tbody tr th {\n",
       "        vertical-align: top;\n",
       "    }\n",
       "\n",
       "    .dataframe thead th {\n",
       "        text-align: right;\n",
       "    }\n",
       "</style>\n",
       "<table border=\"1\" class=\"dataframe\">\n",
       "  <thead>\n",
       "    <tr style=\"text-align: right;\">\n",
       "      <th></th>\n",
       "      <th>id</th>\n",
       "      <th>business_id</th>\n",
       "      <th>caption</th>\n",
       "      <th>label</th>\n",
       "    </tr>\n",
       "  </thead>\n",
       "  <tbody>\n",
       "    <tr>\n",
       "      <th>0</th>\n",
       "      <td>--0uqWanwN31OkuuwJ1zjQ</td>\n",
       "      <td>XIg92ukZJn_1aiNx0OmusQ</td>\n",
       "      <td>Le Gadboi: Poutine with pogos and onion rings.</td>\n",
       "      <td>food</td>\n",
       "    </tr>\n",
       "    <tr>\n",
       "      <th>1</th>\n",
       "      <td>--3gCyYz0Eo3r07tAvUbhg</td>\n",
       "      <td>VeiL_tgw7dsl-7IcnOsh0g</td>\n",
       "      <td>Their OMAKASE is AMAZING!!!!! Very recommended</td>\n",
       "      <td>food</td>\n",
       "    </tr>\n",
       "    <tr>\n",
       "      <th>2</th>\n",
       "      <td>--3vR19cePIkGQBgcLsQkw</td>\n",
       "      <td>If6Bku2jkgPiikR6HBu-XQ</td>\n",
       "      <td>Big steak omelette</td>\n",
       "      <td>food</td>\n",
       "    </tr>\n",
       "    <tr>\n",
       "      <th>3</th>\n",
       "      <td>--7InqXrxwFUY6-ePZILpQ</td>\n",
       "      <td>QJatAcxYgK1Zp9BRZMAx7g</td>\n",
       "      <td></td>\n",
       "      <td>food</td>\n",
       "    </tr>\n",
       "    <tr>\n",
       "      <th>4</th>\n",
       "      <td>--9fNU-8m06bbXM3jIha_w</td>\n",
       "      <td>ICdoTODBaprN0UReete9VQ</td>\n",
       "      <td>Chocolate Cake 08/12/17 @endoedibles on Instag...</td>\n",
       "      <td>food</td>\n",
       "    </tr>\n",
       "  </tbody>\n",
       "</table>\n",
       "</div>"
      ],
      "text/plain": [
       "                       id             business_id  \\\n",
       "0  --0uqWanwN31OkuuwJ1zjQ  XIg92ukZJn_1aiNx0OmusQ   \n",
       "1  --3gCyYz0Eo3r07tAvUbhg  VeiL_tgw7dsl-7IcnOsh0g   \n",
       "2  --3vR19cePIkGQBgcLsQkw  If6Bku2jkgPiikR6HBu-XQ   \n",
       "3  --7InqXrxwFUY6-ePZILpQ  QJatAcxYgK1Zp9BRZMAx7g   \n",
       "4  --9fNU-8m06bbXM3jIha_w  ICdoTODBaprN0UReete9VQ   \n",
       "\n",
       "                                             caption label  \n",
       "0     Le Gadboi: Poutine with pogos and onion rings.  food  \n",
       "1     Their OMAKASE is AMAZING!!!!! Very recommended  food  \n",
       "2                                 Big steak omelette  food  \n",
       "3                                                     food  \n",
       "4  Chocolate Cake 08/12/17 @endoedibles on Instag...  food  "
      ]
     },
     "execution_count": 133,
     "metadata": {},
     "output_type": "execute_result"
    }
   ],
   "source": [
    "df_photos = pd.read_sql_query(\"select * from photo\", conn)\n",
    "df_photos.head()"
   ]
  },
  {
   "cell_type": "code",
   "execution_count": 134,
   "metadata": {
    "collapsed": true
   },
   "outputs": [],
   "source": [
    "bus_photos_list = list(df_photos.business_id)\n",
    "del df_photos"
   ]
  },
  {
   "cell_type": "code",
   "execution_count": 135,
   "metadata": {},
   "outputs": [
    {
     "name": "stdout",
     "output_type": "stream",
     "text": [
      "Number of photos: 196278\n",
      "Number of unique businesses in photos list: 27850\n"
     ]
    }
   ],
   "source": [
    "print(\"Number of photos:\", len(bus_photos_list))\n",
    "print(\"Number of unique businesses in photos list:\", len(set(bus_photos_list)))"
   ]
  },
  {
   "cell_type": "code",
   "execution_count": 136,
   "metadata": {
    "collapsed": true
   },
   "outputs": [],
   "source": [
    "photos_count_dict = defaultdict(int)\n",
    "for bus in bus_photos_list:\n",
    "    photos_count_dict[bus] += 1"
   ]
  },
  {
   "cell_type": "code",
   "execution_count": 160,
   "metadata": {},
   "outputs": [
    {
     "data": {
      "text/html": [
       "<div>\n",
       "<style scoped>\n",
       "    .dataframe tbody tr th:only-of-type {\n",
       "        vertical-align: middle;\n",
       "    }\n",
       "\n",
       "    .dataframe tbody tr th {\n",
       "        vertical-align: top;\n",
       "    }\n",
       "\n",
       "    .dataframe thead th {\n",
       "        text-align: right;\n",
       "    }\n",
       "</style>\n",
       "<table border=\"1\" class=\"dataframe\">\n",
       "  <thead>\n",
       "    <tr style=\"text-align: right;\">\n",
       "      <th></th>\n",
       "      <th>id</th>\n",
       "      <th>photo_count</th>\n",
       "    </tr>\n",
       "  </thead>\n",
       "  <tbody>\n",
       "    <tr>\n",
       "      <th>0</th>\n",
       "      <td>XIg92ukZJn_1aiNx0OmusQ</td>\n",
       "      <td>1</td>\n",
       "    </tr>\n",
       "    <tr>\n",
       "      <th>1</th>\n",
       "      <td>VeiL_tgw7dsl-7IcnOsh0g</td>\n",
       "      <td>24</td>\n",
       "    </tr>\n",
       "    <tr>\n",
       "      <th>2</th>\n",
       "      <td>If6Bku2jkgPiikR6HBu-XQ</td>\n",
       "      <td>6</td>\n",
       "    </tr>\n",
       "    <tr>\n",
       "      <th>3</th>\n",
       "      <td>QJatAcxYgK1Zp9BRZMAx7g</td>\n",
       "      <td>212</td>\n",
       "    </tr>\n",
       "    <tr>\n",
       "      <th>4</th>\n",
       "      <td>ICdoTODBaprN0UReete9VQ</td>\n",
       "      <td>58</td>\n",
       "    </tr>\n",
       "  </tbody>\n",
       "</table>\n",
       "</div>"
      ],
      "text/plain": [
       "                       id  photo_count\n",
       "0  XIg92ukZJn_1aiNx0OmusQ            1\n",
       "1  VeiL_tgw7dsl-7IcnOsh0g           24\n",
       "2  If6Bku2jkgPiikR6HBu-XQ            6\n",
       "3  QJatAcxYgK1Zp9BRZMAx7g          212\n",
       "4  ICdoTODBaprN0UReete9VQ           58"
      ]
     },
     "execution_count": 160,
     "metadata": {},
     "output_type": "execute_result"
    }
   ],
   "source": [
    "l = [(k, v) for (k, v) in photos_count_dict.items()]\n",
    "\n",
    "df_photos_count = pd.DataFrame(l)\n",
    "df_photos_count.columns = [\"id\", \"photo_count\"]\n",
    "df_photos_count.head()"
   ]
  },
  {
   "cell_type": "code",
   "execution_count": 161,
   "metadata": {},
   "outputs": [
    {
     "data": {
      "text/html": [
       "<div>\n",
       "<style scoped>\n",
       "    .dataframe tbody tr th:only-of-type {\n",
       "        vertical-align: middle;\n",
       "    }\n",
       "\n",
       "    .dataframe tbody tr th {\n",
       "        vertical-align: top;\n",
       "    }\n",
       "\n",
       "    .dataframe thead th {\n",
       "        text-align: right;\n",
       "    }\n",
       "</style>\n",
       "<table border=\"1\" class=\"dataframe\">\n",
       "  <thead>\n",
       "    <tr style=\"text-align: right;\">\n",
       "      <th></th>\n",
       "      <th>id</th>\n",
       "      <th>name</th>\n",
       "      <th>neighborhood</th>\n",
       "      <th>address</th>\n",
       "      <th>city</th>\n",
       "      <th>state</th>\n",
       "      <th>postal_code</th>\n",
       "      <th>latitude</th>\n",
       "      <th>longitude</th>\n",
       "      <th>stars</th>\n",
       "      <th>review_count</th>\n",
       "      <th>is_open</th>\n",
       "      <th>tip_count</th>\n",
       "      <th>photo_count</th>\n",
       "    </tr>\n",
       "  </thead>\n",
       "  <tbody>\n",
       "    <tr>\n",
       "      <th>0</th>\n",
       "      <td>--6MefnULPED_I942VcFNA</td>\n",
       "      <td>John's Chinese BBQ Restaurant</td>\n",
       "      <td></td>\n",
       "      <td>328 Highway 7 E, Chalmers Gate 11, Unit 10</td>\n",
       "      <td>Richmond Hill</td>\n",
       "      <td>ON</td>\n",
       "      <td>L4B 3P7</td>\n",
       "      <td>43.8409</td>\n",
       "      <td>-79.3996</td>\n",
       "      <td>3.0</td>\n",
       "      <td>30</td>\n",
       "      <td>1</td>\n",
       "      <td>12.0</td>\n",
       "      <td>1.0</td>\n",
       "    </tr>\n",
       "    <tr>\n",
       "      <th>1</th>\n",
       "      <td>--7zmmkVg-IMGaXbuVd0SQ</td>\n",
       "      <td>Primal Brewery</td>\n",
       "      <td></td>\n",
       "      <td>16432 Old Statesville Rd</td>\n",
       "      <td>Huntersville</td>\n",
       "      <td>NC</td>\n",
       "      <td>28078</td>\n",
       "      <td>35.4371</td>\n",
       "      <td>-80.8437</td>\n",
       "      <td>4.0</td>\n",
       "      <td>42</td>\n",
       "      <td>1</td>\n",
       "      <td>10.0</td>\n",
       "      <td>NaN</td>\n",
       "    </tr>\n",
       "    <tr>\n",
       "      <th>2</th>\n",
       "      <td>--8LPVSo5i0Oo61X01sV9A</td>\n",
       "      <td>Valley Bone and Joint Specialists</td>\n",
       "      <td></td>\n",
       "      <td>3941 E Baseline Rd, Ste 102</td>\n",
       "      <td>Gilbert</td>\n",
       "      <td>AZ</td>\n",
       "      <td>85234</td>\n",
       "      <td>33.3795</td>\n",
       "      <td>-111.7280</td>\n",
       "      <td>4.5</td>\n",
       "      <td>3</td>\n",
       "      <td>1</td>\n",
       "      <td>NaN</td>\n",
       "      <td>NaN</td>\n",
       "    </tr>\n",
       "    <tr>\n",
       "      <th>3</th>\n",
       "      <td>--9e1ONYQuAa-CB_Rrw7Tw</td>\n",
       "      <td>Delmonico Steakhouse</td>\n",
       "      <td>The Strip</td>\n",
       "      <td>3355 Las Vegas Blvd S</td>\n",
       "      <td>Las Vegas</td>\n",
       "      <td>NV</td>\n",
       "      <td>89109</td>\n",
       "      <td>36.1232</td>\n",
       "      <td>-115.1690</td>\n",
       "      <td>4.0</td>\n",
       "      <td>1389</td>\n",
       "      <td>1</td>\n",
       "      <td>144.0</td>\n",
       "      <td>127.0</td>\n",
       "    </tr>\n",
       "    <tr>\n",
       "      <th>4</th>\n",
       "      <td>--9QQLMTbFzLJ_oT-ON3Xw</td>\n",
       "      <td>Great Clips</td>\n",
       "      <td></td>\n",
       "      <td>1835 E Guadalupe Rd, Ste 106</td>\n",
       "      <td>Tempe</td>\n",
       "      <td>AZ</td>\n",
       "      <td>85283</td>\n",
       "      <td>33.3617</td>\n",
       "      <td>-111.9100</td>\n",
       "      <td>3.0</td>\n",
       "      <td>9</td>\n",
       "      <td>1</td>\n",
       "      <td>2.0</td>\n",
       "      <td>NaN</td>\n",
       "    </tr>\n",
       "  </tbody>\n",
       "</table>\n",
       "</div>"
      ],
      "text/plain": [
       "                       id                               name neighborhood  \\\n",
       "0  --6MefnULPED_I942VcFNA      John's Chinese BBQ Restaurant                \n",
       "1  --7zmmkVg-IMGaXbuVd0SQ                     Primal Brewery                \n",
       "2  --8LPVSo5i0Oo61X01sV9A  Valley Bone and Joint Specialists                \n",
       "3  --9e1ONYQuAa-CB_Rrw7Tw               Delmonico Steakhouse    The Strip   \n",
       "4  --9QQLMTbFzLJ_oT-ON3Xw                        Great Clips                \n",
       "\n",
       "                                      address           city state  \\\n",
       "0  328 Highway 7 E, Chalmers Gate 11, Unit 10  Richmond Hill    ON   \n",
       "1                    16432 Old Statesville Rd   Huntersville    NC   \n",
       "2                 3941 E Baseline Rd, Ste 102        Gilbert    AZ   \n",
       "3                       3355 Las Vegas Blvd S      Las Vegas    NV   \n",
       "4                1835 E Guadalupe Rd, Ste 106          Tempe    AZ   \n",
       "\n",
       "  postal_code  latitude  longitude  stars  review_count  is_open  tip_count  \\\n",
       "0     L4B 3P7   43.8409   -79.3996    3.0            30        1       12.0   \n",
       "1       28078   35.4371   -80.8437    4.0            42        1       10.0   \n",
       "2       85234   33.3795  -111.7280    4.5             3        1        NaN   \n",
       "3       89109   36.1232  -115.1690    4.0          1389        1      144.0   \n",
       "4       85283   33.3617  -111.9100    3.0             9        1        2.0   \n",
       "\n",
       "   photo_count  \n",
       "0          1.0  \n",
       "1          NaN  \n",
       "2          NaN  \n",
       "3        127.0  \n",
       "4          NaN  "
      ]
     },
     "execution_count": 161,
     "metadata": {},
     "output_type": "execute_result"
    }
   ],
   "source": [
    "merged = pd.merge(left=merged,right=df_photos_count, how='left', \n",
    "                       left_on='id', right_on='id')\n",
    "merged.head()"
   ]
  },
  {
   "cell_type": "markdown",
   "metadata": {},
   "source": [
    "### Business Number of Photos vs. Business Average Rating"
   ]
  },
  {
   "cell_type": "code",
   "execution_count": 163,
   "metadata": {},
   "outputs": [
    {
     "data": {
      "text/plain": [
       "(27850, 14)"
      ]
     },
     "execution_count": 163,
     "metadata": {},
     "output_type": "execute_result"
    }
   ],
   "source": [
    "# Take the subset that includes the businesses that have photos data\n",
    "photos_dropped = merged.dropna(subset=['photo_count'], how='all')\n",
    "photos_dropped.shape"
   ]
  },
  {
   "cell_type": "code",
   "execution_count": 164,
   "metadata": {},
   "outputs": [
    {
     "data": {
      "image/png": "[encoded data removed]",
      "text/plain": [
       "<matplotlib.figure.Figure at 0x1844b3a90>"
      ]
     },
     "metadata": {},
     "output_type": "display_data"
    }
   ],
   "source": [
    "plt.figure(figsize=(5,5))\n",
    "plt.scatter(photos_dropped.stars, photos_dropped.photo_count)\n",
    "plt.xlabel(\"Average Rating\")\n",
    "plt.ylabel(\"Photo count\")\n",
    "plt.show()"
   ]
  },
  {
   "cell_type": "code",
   "execution_count": 166,
   "metadata": {},
   "outputs": [
    {
     "data": {
      "text/plain": [
       "(156639, 14)"
      ]
     },
     "execution_count": 166,
     "metadata": {},
     "output_type": "execute_result"
    }
   ],
   "source": [
    "merged.shape"
   ]
  },
  {
   "cell_type": "markdown",
   "metadata": {},
   "source": [
    "## New table 'business2' that includes photo_count and tip_count"
   ]
  },
  {
   "cell_type": "code",
   "execution_count": 170,
   "metadata": {
    "collapsed": true
   },
   "outputs": [],
   "source": [
    "merged.to_sql('business2', conn, index = False)"
   ]
  },
  {
   "cell_type": "markdown",
   "metadata": {},
   "source": [
    "### Business Number of Reviews vs. Business Total Checkins"
   ]
  },
  {
   "cell_type": "code",
   "execution_count": 171,
   "metadata": {
    "collapsed": true
   },
   "outputs": [],
   "source": [
    "df_checkins = pd.read_sql_query(\"select * from checkin_total\", conn)"
   ]
  },
  {
   "cell_type": "code",
   "execution_count": 172,
   "metadata": {},
   "outputs": [
    {
     "data": {
      "text/plain": [
       "count    135148.000000\n",
       "mean        117.028983\n",
       "std         704.498857\n",
       "min           1.000000\n",
       "25%           5.000000\n",
       "50%          18.000000\n",
       "75%          67.000000\n",
       "max      126689.000000\n",
       "Name: total_count, dtype: float64"
      ]
     },
     "execution_count": 172,
     "metadata": {},
     "output_type": "execute_result"
    }
   ],
   "source": [
    "df_checkins.total_count.describe()"
   ]
  },
  {
   "cell_type": "markdown",
   "metadata": {},
   "source": [
    "**WOW!**. That standard deviation is super high! There are a handfull of super popular restaurants"
   ]
  },
  {
   "cell_type": "markdown",
   "metadata": {},
   "source": [
    "#### Let's merge into our super dataframe our df_checkins"
   ]
  },
  {
   "cell_type": "code",
   "execution_count": 175,
   "metadata": {},
   "outputs": [
    {
     "data": {
      "text/html": [
       "<div>\n",
       "<style scoped>\n",
       "    .dataframe tbody tr th:only-of-type {\n",
       "        vertical-align: middle;\n",
       "    }\n",
       "\n",
       "    .dataframe tbody tr th {\n",
       "        vertical-align: top;\n",
       "    }\n",
       "\n",
       "    .dataframe thead th {\n",
       "        text-align: right;\n",
       "    }\n",
       "</style>\n",
       "<table border=\"1\" class=\"dataframe\">\n",
       "  <thead>\n",
       "    <tr style=\"text-align: right;\">\n",
       "      <th></th>\n",
       "      <th>id</th>\n",
       "      <th>name</th>\n",
       "      <th>neighborhood</th>\n",
       "      <th>address</th>\n",
       "      <th>city</th>\n",
       "      <th>state</th>\n",
       "      <th>postal_code</th>\n",
       "      <th>latitude</th>\n",
       "      <th>longitude</th>\n",
       "      <th>stars</th>\n",
       "      <th>review_count</th>\n",
       "      <th>is_open</th>\n",
       "      <th>tip_count</th>\n",
       "      <th>photo_count</th>\n",
       "      <th>business_id</th>\n",
       "      <th>total_count</th>\n",
       "    </tr>\n",
       "  </thead>\n",
       "  <tbody>\n",
       "    <tr>\n",
       "      <th>0</th>\n",
       "      <td>--6MefnULPED_I942VcFNA</td>\n",
       "      <td>John's Chinese BBQ Restaurant</td>\n",
       "      <td></td>\n",
       "      <td>328 Highway 7 E, Chalmers Gate 11, Unit 10</td>\n",
       "      <td>Richmond Hill</td>\n",
       "      <td>ON</td>\n",
       "      <td>L4B 3P7</td>\n",
       "      <td>43.8409</td>\n",
       "      <td>-79.3996</td>\n",
       "      <td>3.0</td>\n",
       "      <td>30</td>\n",
       "      <td>1</td>\n",
       "      <td>12.0</td>\n",
       "      <td>1.0</td>\n",
       "      <td>--6MefnULPED_I942VcFNA</td>\n",
       "      <td>122.0</td>\n",
       "    </tr>\n",
       "    <tr>\n",
       "      <th>1</th>\n",
       "      <td>--7zmmkVg-IMGaXbuVd0SQ</td>\n",
       "      <td>Primal Brewery</td>\n",
       "      <td></td>\n",
       "      <td>16432 Old Statesville Rd</td>\n",
       "      <td>Huntersville</td>\n",
       "      <td>NC</td>\n",
       "      <td>28078</td>\n",
       "      <td>35.4371</td>\n",
       "      <td>-80.8437</td>\n",
       "      <td>4.0</td>\n",
       "      <td>42</td>\n",
       "      <td>1</td>\n",
       "      <td>10.0</td>\n",
       "      <td>NaN</td>\n",
       "      <td>--7zmmkVg-IMGaXbuVd0SQ</td>\n",
       "      <td>132.0</td>\n",
       "    </tr>\n",
       "    <tr>\n",
       "      <th>2</th>\n",
       "      <td>--8LPVSo5i0Oo61X01sV9A</td>\n",
       "      <td>Valley Bone and Joint Specialists</td>\n",
       "      <td></td>\n",
       "      <td>3941 E Baseline Rd, Ste 102</td>\n",
       "      <td>Gilbert</td>\n",
       "      <td>AZ</td>\n",
       "      <td>85234</td>\n",
       "      <td>33.3795</td>\n",
       "      <td>-111.7280</td>\n",
       "      <td>4.5</td>\n",
       "      <td>3</td>\n",
       "      <td>1</td>\n",
       "      <td>NaN</td>\n",
       "      <td>NaN</td>\n",
       "      <td>--8LPVSo5i0Oo61X01sV9A</td>\n",
       "      <td>1.0</td>\n",
       "    </tr>\n",
       "    <tr>\n",
       "      <th>3</th>\n",
       "      <td>--9e1ONYQuAa-CB_Rrw7Tw</td>\n",
       "      <td>Delmonico Steakhouse</td>\n",
       "      <td>The Strip</td>\n",
       "      <td>3355 Las Vegas Blvd S</td>\n",
       "      <td>Las Vegas</td>\n",
       "      <td>NV</td>\n",
       "      <td>89109</td>\n",
       "      <td>36.1232</td>\n",
       "      <td>-115.1690</td>\n",
       "      <td>4.0</td>\n",
       "      <td>1389</td>\n",
       "      <td>1</td>\n",
       "      <td>144.0</td>\n",
       "      <td>127.0</td>\n",
       "      <td>--9e1ONYQuAa-CB_Rrw7Tw</td>\n",
       "      <td>2469.0</td>\n",
       "    </tr>\n",
       "    <tr>\n",
       "      <th>4</th>\n",
       "      <td>--9QQLMTbFzLJ_oT-ON3Xw</td>\n",
       "      <td>Great Clips</td>\n",
       "      <td></td>\n",
       "      <td>1835 E Guadalupe Rd, Ste 106</td>\n",
       "      <td>Tempe</td>\n",
       "      <td>AZ</td>\n",
       "      <td>85283</td>\n",
       "      <td>33.3617</td>\n",
       "      <td>-111.9100</td>\n",
       "      <td>3.0</td>\n",
       "      <td>9</td>\n",
       "      <td>1</td>\n",
       "      <td>2.0</td>\n",
       "      <td>NaN</td>\n",
       "      <td>--9QQLMTbFzLJ_oT-ON3Xw</td>\n",
       "      <td>29.0</td>\n",
       "    </tr>\n",
       "  </tbody>\n",
       "</table>\n",
       "</div>"
      ],
      "text/plain": [
       "                       id                               name neighborhood  \\\n",
       "0  --6MefnULPED_I942VcFNA      John's Chinese BBQ Restaurant                \n",
       "1  --7zmmkVg-IMGaXbuVd0SQ                     Primal Brewery                \n",
       "2  --8LPVSo5i0Oo61X01sV9A  Valley Bone and Joint Specialists                \n",
       "3  --9e1ONYQuAa-CB_Rrw7Tw               Delmonico Steakhouse    The Strip   \n",
       "4  --9QQLMTbFzLJ_oT-ON3Xw                        Great Clips                \n",
       "\n",
       "                                      address           city state  \\\n",
       "0  328 Highway 7 E, Chalmers Gate 11, Unit 10  Richmond Hill    ON   \n",
       "1                    16432 Old Statesville Rd   Huntersville    NC   \n",
       "2                 3941 E Baseline Rd, Ste 102        Gilbert    AZ   \n",
       "3                       3355 Las Vegas Blvd S      Las Vegas    NV   \n",
       "4                1835 E Guadalupe Rd, Ste 106          Tempe    AZ   \n",
       "\n",
       "  postal_code  latitude  longitude  stars  review_count  is_open  tip_count  \\\n",
       "0     L4B 3P7   43.8409   -79.3996    3.0            30        1       12.0   \n",
       "1       28078   35.4371   -80.8437    4.0            42        1       10.0   \n",
       "2       85234   33.3795  -111.7280    4.5             3        1        NaN   \n",
       "3       89109   36.1232  -115.1690    4.0          1389        1      144.0   \n",
       "4       85283   33.3617  -111.9100    3.0             9        1        2.0   \n",
       "\n",
       "   photo_count             business_id  total_count  \n",
       "0          1.0  --6MefnULPED_I942VcFNA        122.0  \n",
       "1          NaN  --7zmmkVg-IMGaXbuVd0SQ        132.0  \n",
       "2          NaN  --8LPVSo5i0Oo61X01sV9A          1.0  \n",
       "3        127.0  --9e1ONYQuAa-CB_Rrw7Tw       2469.0  \n",
       "4          NaN  --9QQLMTbFzLJ_oT-ON3Xw         29.0  "
      ]
     },
     "execution_count": 175,
     "metadata": {},
     "output_type": "execute_result"
    }
   ],
   "source": [
    "merged = pd.merge(left=merged,right=df_checkins, how='left', \n",
    "                       left_on='id', right_on='business_id')\n",
    "merged.head()"
   ]
  },
  {
   "cell_type": "code",
   "execution_count": 176,
   "metadata": {
    "collapsed": true
   },
   "outputs": [],
   "source": [
    "del merged['business_id']\n",
    "merged = merged.rename(columns={'total_count' : 'checkin_count'})"
   ]
  },
  {
   "cell_type": "code",
   "execution_count": 177,
   "metadata": {},
   "outputs": [
    {
     "data": {
      "text/html": [
       "<div>\n",
       "<style scoped>\n",
       "    .dataframe tbody tr th:only-of-type {\n",
       "        vertical-align: middle;\n",
       "    }\n",
       "\n",
       "    .dataframe tbody tr th {\n",
       "        vertical-align: top;\n",
       "    }\n",
       "\n",
       "    .dataframe thead th {\n",
       "        text-align: right;\n",
       "    }\n",
       "</style>\n",
       "<table border=\"1\" class=\"dataframe\">\n",
       "  <thead>\n",
       "    <tr style=\"text-align: right;\">\n",
       "      <th></th>\n",
       "      <th>id</th>\n",
       "      <th>name</th>\n",
       "      <th>neighborhood</th>\n",
       "      <th>address</th>\n",
       "      <th>city</th>\n",
       "      <th>state</th>\n",
       "      <th>postal_code</th>\n",
       "      <th>latitude</th>\n",
       "      <th>longitude</th>\n",
       "      <th>stars</th>\n",
       "      <th>review_count</th>\n",
       "      <th>is_open</th>\n",
       "      <th>tip_count</th>\n",
       "      <th>photo_count</th>\n",
       "      <th>checkin_count</th>\n",
       "    </tr>\n",
       "  </thead>\n",
       "  <tbody>\n",
       "    <tr>\n",
       "      <th>0</th>\n",
       "      <td>--6MefnULPED_I942VcFNA</td>\n",
       "      <td>John's Chinese BBQ Restaurant</td>\n",
       "      <td></td>\n",
       "      <td>328 Highway 7 E, Chalmers Gate 11, Unit 10</td>\n",
       "      <td>Richmond Hill</td>\n",
       "      <td>ON</td>\n",
       "      <td>L4B 3P7</td>\n",
       "      <td>43.8409</td>\n",
       "      <td>-79.3996</td>\n",
       "      <td>3.0</td>\n",
       "      <td>30</td>\n",
       "      <td>1</td>\n",
       "      <td>12.0</td>\n",
       "      <td>1.0</td>\n",
       "      <td>122.0</td>\n",
       "    </tr>\n",
       "    <tr>\n",
       "      <th>1</th>\n",
       "      <td>--7zmmkVg-IMGaXbuVd0SQ</td>\n",
       "      <td>Primal Brewery</td>\n",
       "      <td></td>\n",
       "      <td>16432 Old Statesville Rd</td>\n",
       "      <td>Huntersville</td>\n",
       "      <td>NC</td>\n",
       "      <td>28078</td>\n",
       "      <td>35.4371</td>\n",
       "      <td>-80.8437</td>\n",
       "      <td>4.0</td>\n",
       "      <td>42</td>\n",
       "      <td>1</td>\n",
       "      <td>10.0</td>\n",
       "      <td>NaN</td>\n",
       "      <td>132.0</td>\n",
       "    </tr>\n",
       "    <tr>\n",
       "      <th>2</th>\n",
       "      <td>--8LPVSo5i0Oo61X01sV9A</td>\n",
       "      <td>Valley Bone and Joint Specialists</td>\n",
       "      <td></td>\n",
       "      <td>3941 E Baseline Rd, Ste 102</td>\n",
       "      <td>Gilbert</td>\n",
       "      <td>AZ</td>\n",
       "      <td>85234</td>\n",
       "      <td>33.3795</td>\n",
       "      <td>-111.7280</td>\n",
       "      <td>4.5</td>\n",
       "      <td>3</td>\n",
       "      <td>1</td>\n",
       "      <td>NaN</td>\n",
       "      <td>NaN</td>\n",
       "      <td>1.0</td>\n",
       "    </tr>\n",
       "    <tr>\n",
       "      <th>3</th>\n",
       "      <td>--9e1ONYQuAa-CB_Rrw7Tw</td>\n",
       "      <td>Delmonico Steakhouse</td>\n",
       "      <td>The Strip</td>\n",
       "      <td>3355 Las Vegas Blvd S</td>\n",
       "      <td>Las Vegas</td>\n",
       "      <td>NV</td>\n",
       "      <td>89109</td>\n",
       "      <td>36.1232</td>\n",
       "      <td>-115.1690</td>\n",
       "      <td>4.0</td>\n",
       "      <td>1389</td>\n",
       "      <td>1</td>\n",
       "      <td>144.0</td>\n",
       "      <td>127.0</td>\n",
       "      <td>2469.0</td>\n",
       "    </tr>\n",
       "    <tr>\n",
       "      <th>4</th>\n",
       "      <td>--9QQLMTbFzLJ_oT-ON3Xw</td>\n",
       "      <td>Great Clips</td>\n",
       "      <td></td>\n",
       "      <td>1835 E Guadalupe Rd, Ste 106</td>\n",
       "      <td>Tempe</td>\n",
       "      <td>AZ</td>\n",
       "      <td>85283</td>\n",
       "      <td>33.3617</td>\n",
       "      <td>-111.9100</td>\n",
       "      <td>3.0</td>\n",
       "      <td>9</td>\n",
       "      <td>1</td>\n",
       "      <td>2.0</td>\n",
       "      <td>NaN</td>\n",
       "      <td>29.0</td>\n",
       "    </tr>\n",
       "  </tbody>\n",
       "</table>\n",
       "</div>"
      ],
      "text/plain": [
       "                       id                               name neighborhood  \\\n",
       "0  --6MefnULPED_I942VcFNA      John's Chinese BBQ Restaurant                \n",
       "1  --7zmmkVg-IMGaXbuVd0SQ                     Primal Brewery                \n",
       "2  --8LPVSo5i0Oo61X01sV9A  Valley Bone and Joint Specialists                \n",
       "3  --9e1ONYQuAa-CB_Rrw7Tw               Delmonico Steakhouse    The Strip   \n",
       "4  --9QQLMTbFzLJ_oT-ON3Xw                        Great Clips                \n",
       "\n",
       "                                      address           city state  \\\n",
       "0  328 Highway 7 E, Chalmers Gate 11, Unit 10  Richmond Hill    ON   \n",
       "1                    16432 Old Statesville Rd   Huntersville    NC   \n",
       "2                 3941 E Baseline Rd, Ste 102        Gilbert    AZ   \n",
       "3                       3355 Las Vegas Blvd S      Las Vegas    NV   \n",
       "4                1835 E Guadalupe Rd, Ste 106          Tempe    AZ   \n",
       "\n",
       "  postal_code  latitude  longitude  stars  review_count  is_open  tip_count  \\\n",
       "0     L4B 3P7   43.8409   -79.3996    3.0            30        1       12.0   \n",
       "1       28078   35.4371   -80.8437    4.0            42        1       10.0   \n",
       "2       85234   33.3795  -111.7280    4.5             3        1        NaN   \n",
       "3       89109   36.1232  -115.1690    4.0          1389        1      144.0   \n",
       "4       85283   33.3617  -111.9100    3.0             9        1        2.0   \n",
       "\n",
       "   photo_count  checkin_count  \n",
       "0          1.0          122.0  \n",
       "1          NaN          132.0  \n",
       "2          NaN            1.0  \n",
       "3        127.0         2469.0  \n",
       "4          NaN           29.0  "
      ]
     },
     "execution_count": 177,
     "metadata": {},
     "output_type": "execute_result"
    }
   ],
   "source": [
    "merged.head()"
   ]
  },
  {
   "cell_type": "markdown",
   "metadata": {},
   "source": [
    "#### Let's graph `checkin_count` vs. `review_count`"
   ]
  },
  {
   "cell_type": "code",
   "execution_count": 178,
   "metadata": {
    "collapsed": true
   },
   "outputs": [],
   "source": [
    "checkin_graph_data = merged.dropna(subset=['checkin_count'])"
   ]
  },
  {
   "cell_type": "code",
   "execution_count": 180,
   "metadata": {},
   "outputs": [
    {
     "data": {
      "image/png": "[encoded data removed]",
      "text/plain": [
       "<matplotlib.figure.Figure at 0x18ca72240>"
      ]
     },
     "metadata": {},
     "output_type": "display_data"
    }
   ],
   "source": [
    "plt.scatter(checkin_graph_data.review_count, checkin_graph_data.checkin_count)\n",
    "plt.xlabel(\"Number of reviews\")\n",
    "plt.ylabel(\"Number of checkins\")\n",
    "plt.show()"
   ]
  },
  {
   "cell_type": "code",
   "execution_count": 186,
   "metadata": {},
   "outputs": [
    {
     "data": {
      "text/plain": [
       "0.64486078887319387"
      ]
     },
     "execution_count": 186,
     "metadata": {},
     "output_type": "execute_result"
    }
   ],
   "source": [
    "checkin_graph_data.review_count.corr(checkin_graph_data.checkin_count)"
   ]
  },
  {
   "cell_type": "markdown",
   "metadata": {},
   "source": [
    "### Number of checkins vs. Business Rating"
   ]
  },
  {
   "cell_type": "code",
   "execution_count": 183,
   "metadata": {},
   "outputs": [
    {
     "data": {
      "image/png": "[encoded data removed]",
      "text/plain": [
       "<matplotlib.figure.Figure at 0x18d42de80>"
      ]
     },
     "metadata": {},
     "output_type": "display_data"
    }
   ],
   "source": [
    "plt.scatter(checkin_graph_data.stars, checkin_graph_data.checkin_count)\n",
    "plt.show()"
   ]
  },
  {
   "cell_type": "code",
   "execution_count": null,
   "metadata": {
    "collapsed": true
   },
   "outputs": [],
   "source": [
    "checkin_gr"
   ]
  }
 ],
 "metadata": {
  "kernelspec": {
   "display_name": "Python [conda env:3.6default]",
   "language": "python",
   "name": "conda-env-3.6default-py"
  },
  "language_info": {
   "codemirror_mode": {
    "name": "ipython",
    "version": 3
   },
   "file_extension": ".py",
   "mimetype": "text/x-python",
   "name": "python",
   "nbconvert_exporter": "python",
   "pygments_lexer": "ipython3",
   "version": "3.6.2"
  }
 },
 "nbformat": 4,
 "nbformat_minor": 2
}
