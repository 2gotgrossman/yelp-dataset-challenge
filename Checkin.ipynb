{
 "cells": [
  {
   "cell_type": "code",
   "execution_count": 1,
   "metadata": {
    "collapsed": true
   },
   "outputs": [],
   "source": [
    "import json\n",
    "import pprint as pp\n",
    "import pandas as pd\n",
    "import matplotlib.pyplot as plt\n",
    "\n",
    "sep = '\\n' + '#' * 80 +'\\n'"
   ]
  },
  {
   "cell_type": "code",
   "execution_count": 2,
   "metadata": {
    "collapsed": true
   },
   "outputs": [],
   "source": [
    "with open('checkin.json', 'r') as f:\n",
    "    customers = []\n",
    "    for line in f:\n",
    "         customers.append(json.loads(line))"
   ]
  },
  {
   "cell_type": "code",
   "execution_count": 3,
   "metadata": {},
   "outputs": [
    {
     "name": "stdout",
     "output_type": "stream",
     "text": [
      "{'business_id': '7KPBkxAOEtb3QeIL9PEErg',\n",
      " 'time': {'Friday': {'0:00': 2,\n",
      "                     '10:00': 2,\n",
      "                     '14:00': 2,\n",
      "                     '15:00': 1,\n",
      "                     '16:00': 1,\n",
      "                     '18:00': 1,\n",
      "                     '19:00': 2,\n",
      "                     '21:00': 2,\n",
      "                     '22:00': 2,\n",
      "                     '23:00': 1,\n",
      "                     '3:00': 1},\n",
      "          'Monday': {'11:00': 1,\n",
      "                     '12:00': 1,\n",
      "                     '14:00': 1,\n",
      "                     '18:00': 1,\n",
      "                     '19:00': 1,\n",
      "                     '20:00': 1,\n",
      "                     '23:00': 1},\n",
      "          'Saturday': {'0:00': 1,\n",
      "                       '10:00': 1,\n",
      "                       '12:00': 1,\n",
      "                       '13:00': 3,\n",
      "                       '14:00': 1,\n",
      "                       '15:00': 1,\n",
      "                       '16:00': 2,\n",
      "                       '17:00': 3,\n",
      "                       '18:00': 4,\n",
      "                       '1:00': 2,\n",
      "                       '21:00': 1,\n",
      "                       '23:00': 3,\n",
      "                       '2:00': 1},\n",
      "          'Sunday': {'0:00': 1,\n",
      "                     '14:00': 1,\n",
      "                     '16:00': 1,\n",
      "                     '17:00': 1,\n",
      "                     '18:00': 1,\n",
      "                     '19:00': 2,\n",
      "                     '20:00': 5,\n",
      "                     '21:00': 1,\n",
      "                     '23:00': 1,\n",
      "                     '2:00': 2,\n",
      "                     '3:00': 3,\n",
      "                     '6:00': 1},\n",
      "          'Thursday': {'13:00': 1,\n",
      "                       '15:00': 2,\n",
      "                       '19:00': 1,\n",
      "                       '1:00': 1,\n",
      "                       '20:00': 2,\n",
      "                       '21:00': 4,\n",
      "                       '22:00': 1,\n",
      "                       '23:00': 2,\n",
      "                       '2:00': 1,\n",
      "                       '4:00': 1},\n",
      "          'Tuesday': {'12:00': 1,\n",
      "                      '13:00': 2,\n",
      "                      '15:00': 1,\n",
      "                      '16:00': 1,\n",
      "                      '18:00': 2,\n",
      "                      '20:00': 2,\n",
      "                      '21:00': 1,\n",
      "                      '23:00': 2,\n",
      "                      '4:00': 1},\n",
      "          'Wednesday': {'0:00': 2,\n",
      "                        '11:00': 2,\n",
      "                        '13:00': 2,\n",
      "                        '14:00': 1,\n",
      "                        '17:00': 1,\n",
      "                        '18:00': 1,\n",
      "                        '19:00': 1,\n",
      "                        '1:00': 1,\n",
      "                        '20:00': 2,\n",
      "                        '21:00': 1,\n",
      "                        '2:00': 1,\n",
      "                        '6:00': 1}}}\n",
      "\n",
      "\n",
      "################################################################################\n",
      "\n",
      "\n",
      "{'business_id': 'kREVIrSBbtqBhIYkTccQUg',\n",
      " 'time': {'Monday': {'13:00': 1},\n",
      "          'Saturday': {'16:00': 1, '21:00': 1},\n",
      "          'Sunday': {'19:00': 1},\n",
      "          'Thursday': {'13:00': 1, '20:00': 1},\n",
      "          'Wednesday': {'17:00': 1}}}\n",
      "\n",
      "\n",
      "################################################################################\n",
      "\n",
      "\n",
      "{'business_id': 'tJRDll5yqpZwehenzE2cSg',\n",
      " 'time': {'Monday': {'12:00': 1, '1:00': 1},\n",
      "          'Saturday': {'16:00': 1},\n",
      "          'Thursday': {'0:00': 1}}}\n",
      "\n",
      "\n",
      "################################################################################\n",
      "\n",
      "\n",
      "{'business_id': 'nhZ1HGWD8lMErdn3FuWuTQ',\n",
      " 'time': {'Friday': {'0:00': 1, '18:00': 1, '1:00': 1, '22:00': 2},\n",
      "          'Monday': {'17:00': 1,\n",
      "                     '18:00': 1,\n",
      "                     '19:00': 1,\n",
      "                     '20:00': 3,\n",
      "                     '21:00': 1,\n",
      "                     '2:00': 1},\n",
      "          'Saturday': {'0:00': 1,\n",
      "                       '17:00': 1,\n",
      "                       '1:00': 1,\n",
      "                       '20:00': 1,\n",
      "                       '22:00': 3,\n",
      "                       '23:00': 2,\n",
      "                       '3:00': 1},\n",
      "          'Sunday': {'0:00': 1, '17:00': 2, '18:00': 1, '22:00': 1, '2:00': 1},\n",
      "          'Thursday': {'0:00': 1, '20:00': 1, '21:00': 1, '2:00': 1, '3:00': 1},\n",
      "          'Tuesday': {'17:00': 1, '1:00': 1, '22:00': 3, '23:00': 3},\n",
      "          'Wednesday': {'0:00': 1, '22:00': 1, '3:00': 1}}}\n",
      "\n",
      "\n",
      "################################################################################\n",
      "\n",
      "\n",
      "{'business_id': 'vDoXZGE7p6xAkKQ0XQPvoA',\n",
      " 'time': {'Saturday': {'23:00': 1}, 'Thursday': {'15:00': 1}}}\n",
      "\n",
      "\n",
      "################################################################################\n",
      "\n",
      "\n"
     ]
    }
   ],
   "source": [
    "for i in range(5):\n",
    "    pp.pprint(customers[i])\n",
    "    print(\"\\n\\n\" + \"#\" * 80 + \"\\n\\n\")"
   ]
  },
  {
   "cell_type": "code",
   "execution_count": 4,
   "metadata": {},
   "outputs": [
    {
     "name": "stdout",
     "output_type": "stream",
     "text": [
      "0\n"
     ]
    }
   ],
   "source": [
    "counter = 0\n",
    "for cust in customers:\n",
    "    keys = cust.keys()\n",
    "    if not (len(keys) is 2):\n",
    "        counter += 1\n",
    "        \n",
    "print(counter)"
   ]
  },
  {
   "cell_type": "code",
   "execution_count": 5,
   "metadata": {},
   "outputs": [
    {
     "name": "stdout",
     "output_type": "stream",
     "text": [
      "0\n"
     ]
    }
   ],
   "source": [
    "counter = 0\n",
    "for cust in customers:\n",
    "    keys = cust.keys()\n",
    "    if not ('time' in keys and 'business_id' in keys):\n",
    "        counter += 1\n",
    "        \n",
    "print(counter)"
   ]
  },
  {
   "cell_type": "code",
   "execution_count": 6,
   "metadata": {},
   "outputs": [
    {
     "data": {
      "text/plain": [
       "135148"
      ]
     },
     "execution_count": 6,
     "metadata": {},
     "output_type": "execute_result"
    }
   ],
   "source": [
    "len(customers)"
   ]
  },
  {
   "cell_type": "code",
   "execution_count": 7,
   "metadata": {},
   "outputs": [
    {
     "name": "stdout",
     "output_type": "stream",
     "text": [
      "\n",
      "################################################################################\n",
      "\n",
      "Monday     :   95,080 | 70.35%\n",
      "Tuesday    :   98,180 | 72.65%\n",
      "Wednesday  :   99,572 | 73.68%\n",
      "Thursday   :  100,144 | 74.10%\n",
      "Friday     :  102,721 | 76.01%\n",
      "Saturday   :  104,020 | 76.97%\n",
      "Sunday     :   91,816 | 67.94%\n",
      "\n",
      "################################################################################\n",
      "\n"
     ]
    },
    {
     "data": {
      "image/png": "[encoded data removed]",
      "text/plain": [
       "<matplotlib.figure.Figure at 0x7f2a6ba02e10>"
      ]
     },
     "metadata": {},
     "output_type": "display_data"
    }
   ],
   "source": [
    "\"\"\"Find out how often a day is used by customers,\n",
    "at least once, ranging from 0 - 135148\n",
    "\"\"\"\n",
    "days = {'Monday' : 0, 'Tuesday' : 0, 'Wednesday' : 0,\n",
    "        'Thursday' : 0, 'Friday' : 0, 'Saturday' : 0,\n",
    "        'Sunday' : 0}\n",
    "ds = days.keys()\n",
    "for cust in customers:\n",
    "    key = cust['time'].keys()\n",
    "    for day in ds:\n",
    "        if day in key:\n",
    "            days[day] += 1\n",
    "print(sep)\n",
    "for dy in ds:\n",
    "    print('{:11}: {:>8,d} | {:.2f}%'.format(dy, days[dy], (days[dy] / len(customers)) * 100))\n",
    "print(sep)\n",
    "plt.figure(1, (16, 9))\n",
    "plt.title('Number of Customers >= 1 Checkin Each Day')\n",
    "plt.ylabel('Number of Customers (0 - {})'.format(len(customers)))\n",
    "plt.bar(range(7), days.values(), tick_label = days.keys())\n",
    "plt.ylim(80000, 110000)\n",
    "plt.show()"
   ]
  },
  {
   "cell_type": "code",
   "execution_count": 8,
   "metadata": {},
   "outputs": [
    {
     "name": "stdout",
     "output_type": "stream",
     "text": [
      "\n",
      "################################################################################\n",
      "\n",
      "Total Checkins Each Day\n",
      "--------------------------\n",
      "\n",
      "Monday     : 1,889,313\n",
      "Tuesday    : 1,834,120\n",
      "Wednesday  : 1,899,031\n",
      "Thursday   : 1,951,068\n",
      "Friday     : 2,265,034\n",
      "Saturday   : 3,122,825\n",
      "Sunday     : 2,854,842\n",
      "\n",
      "################################################################################\n",
      "\n"
     ]
    },
    {
     "data": {
      "image/png": "[encoded data removed]",
      "text/plain": [
       "<matplotlib.figure.Figure at 0x7f2a63b7a518>"
      ]
     },
     "metadata": {},
     "output_type": "display_data"
    }
   ],
   "source": [
    "\"\"\"Find out how how many checkins total there are by day\n",
    "\"\"\"\n",
    "days = {'Monday' : 0, 'Tuesday' : 0, 'Wednesday' : 0,\n",
    "        'Thursday' : 0, 'Friday' : 0, 'Saturday' : 0,\n",
    "        'Sunday' : 0}\n",
    "ds = days.keys()\n",
    "for cust in customers:\n",
    "    key = cust['time'].keys()\n",
    "    for day in ds:\n",
    "        if day in key:\n",
    "            days[day] += sum(cust['time'][day].values())\n",
    "print(sep)\n",
    "print('Total Checkins Each Day')\n",
    "print('--------------------------\\n')\n",
    "for dy in ds:\n",
    "    print('{:11}: {:>,d}'.format(dy, days[dy]))\n",
    "print(sep)\n",
    "plt.figure(1, (16, 9))\n",
    "plt.title('Total Checkins for Each Day')\n",
    "plt.ylabel('Checkins')\n",
    "plt.bar(range(7), days.values(), tick_label = days.keys())\n",
    "plt.show()"
   ]
  },
  {
   "cell_type": "markdown",
   "metadata": {
    "collapsed": true
   },
   "source": [
    "### The vast majority of the data exists in a very small range (0 - 100), but outliers exists all the way up to > 120,000. This makes it very difficult to visualize. I am going to create a histogram and a boxplot twice: once with full data, once with the data without outliers, and once with the data from 0-200."
   ]
  },
  {
   "cell_type": "code",
   "execution_count": 13,
   "metadata": {},
   "outputs": [
    {
     "name": "stdout",
     "output_type": "stream",
     "text": [
      "\n",
      "################################################################################\n",
      "\n",
      "Descriptive Statistics of Total Checkins by Business\n",
      "-------------------------------------------------------\n",
      "\n",
      "count    135148.000000\n",
      "mean        117.028983\n",
      "std         704.498857\n",
      "min           1.000000\n",
      "25%           5.000000\n",
      "50%          18.000000\n",
      "75%          67.000000\n",
      "max      126689.000000\n",
      "dtype: float64\n",
      "\n",
      "################################################################################\n",
      "\n"
     ]
    },
    {
     "data": {
      "image/png": "[encoded data removed]",
      "text/plain": [
       "<matplotlib.figure.Figure at 0x7f2a63534f98>"
      ]
     },
     "metadata": {},
     "output_type": "display_data"
    }
   ],
   "source": [
    "\"\"\"Histogram of number of checkins by business\n",
    "\"\"\"\n",
    "checkins = []\n",
    "for cust in customers:\n",
    "    total = 0\n",
    "    days = cust['time'].keys()\n",
    "    for day in days:\n",
    "        total += sum(cust['time'][day].values())\n",
    "    checkins.append(total)\n",
    "checkins = pd.Series(checkins)\n",
    "print(sep)\n",
    "print('Descriptive Statistics of Total Checkins by Business')\n",
    "print('-------------------------------------------------------\\n')\n",
    "print(checkins.describe())\n",
    "print(sep)\n",
    "plt.figure(1, (16, 9))\n",
    "plt.title('Total Checkins for Each Day')\n",
    "plt.ylabel('Checkins')\n",
    "h = plt.hist(checkins, bins = list(range(0, 1000, 100)) + [1000, 130000])\n",
    "plt.xlim(0, 1250)\n",
    "for i in range(len(h[0])):\n",
    "    plt.text(h[1][i], h[0][i], str(int(h[0][i])))   \n",
    "plt.show()"
   ]
  },
  {
   "cell_type": "code",
   "execution_count": null,
   "metadata": {
    "collapsed": true
   },
   "outputs": [],
   "source": []
  }
 ],
 "metadata": {
  "kernelspec": {
   "display_name": "Python 3.6default",
   "language": "python",
   "name": "3.6default"
  },
  "language_info": {
   "codemirror_mode": {
    "name": "ipython",
    "version": 3
   },
   "file_extension": ".py",
   "mimetype": "text/x-python",
   "name": "python",
   "nbconvert_exporter": "python",
   "pygments_lexer": "ipython3",
   "version": "3.6.2"
  }
 },
 "nbformat": 4,
 "nbformat_minor": 2
}
