{
 "cells": [
  {
   "cell_type": "code",
   "execution_count": 1,
   "metadata": {
    "collapsed": true
   },
   "outputs": [],
   "source": [
    "import json\n",
    "from collections import Counter\n",
    "from matplotlib import pyplot as plt\n",
    "import gc\n",
    "import sys\n",
    "import pickle\n",
    "import os"
   ]
  },
  {
   "cell_type": "code",
   "execution_count": null,
   "metadata": {
    "collapsed": true
   },
   "outputs": [],
   "source": [
    "if not os.path.exists('graphs'):\n",
    "    os.makedirs('graphs')"
   ]
  },
  {
   "cell_type": "markdown",
   "metadata": {},
   "source": [
    "## Initial Loading of User Data"
   ]
  },
  {
   "cell_type": "code",
   "execution_count": 2,
   "metadata": {
    "collapsed": true
   },
   "outputs": [],
   "source": [
    "jsons = []\n",
    "with open(\"dataset/user.json\") as f:\n",
    "    for i, line in enumerate(f):\n",
    "        jsons.append(json.loads(line))"
   ]
  },
  {
   "cell_type": "code",
   "execution_count": 8,
   "metadata": {
    "collapsed": true
   },
   "outputs": [],
   "source": [
    "friends = {}\n",
    "\n",
    "for person in jsons:\n",
    "    friends[person['user_id']] = person['friends']"
   ]
  },
  {
   "cell_type": "code",
   "execution_count": 16,
   "metadata": {},
   "outputs": [
    {
     "name": "stdout",
     "output_type": "stream",
     "text": [
      "Number of users: 1,183,362\n"
     ]
    }
   ],
   "source": [
    "print(\"Number of users:\", \"{:,}\".format(len(friends.keys())))"
   ]
  },
  {
   "cell_type": "markdown",
   "metadata": {},
   "source": [
    "### Pickling User friendships"
   ]
  },
  {
   "cell_type": "code",
   "execution_count": 18,
   "metadata": {
    "collapsed": true
   },
   "outputs": [],
   "source": [
    "pickle.dump(friends, open('graphs/users_friends.p', 'wb'))"
   ]
  },
  {
   "cell_type": "markdown",
   "metadata": {},
   "source": [
    "### Loading User friendships"
   ]
  },
  {
   "cell_type": "code",
   "execution_count": 2,
   "metadata": {
    "collapsed": true
   },
   "outputs": [],
   "source": [
    "pkl_file = open('graphs/users_friends.p', 'rb')\n",
    "\n",
    "data1 = pickle.load(pkl_file)"
   ]
  },
  {
   "cell_type": "code",
   "execution_count": 3,
   "metadata": {},
   "outputs": [
    {
     "name": "stdout",
     "output_type": "stream",
     "text": [
      "1183362\n"
     ]
    }
   ],
   "source": [
    "print( len( data1))"
   ]
  },
  {
   "cell_type": "markdown",
   "metadata": {},
   "source": [
    "## Let's get graphic!\n",
    "#### Loading graph_tool (C-based Python graph library). Looks like it is what anyone uses in Python"
   ]
  },
  {
   "cell_type": "code",
   "execution_count": 4,
   "metadata": {
    "collapsed": true
   },
   "outputs": [],
   "source": [
    "import sys\n",
    "sys.path.insert(0,'/usr/local/lib/python3.6/site-packages')"
   ]
  },
  {
   "cell_type": "code",
   "execution_count": 5,
   "metadata": {
    "collapsed": true
   },
   "outputs": [],
   "source": [
    "from graph_tool.all import *"
   ]
  },
  {
   "cell_type": "code",
   "execution_count": 6,
   "metadata": {
    "collapsed": true
   },
   "outputs": [],
   "source": [
    "g = Graph()"
   ]
  },
  {
   "cell_type": "markdown",
   "metadata": {},
   "source": [
    "### Creates mappings to and from user ID and a user's node index"
   ]
  },
  {
   "cell_type": "code",
   "execution_count": 7,
   "metadata": {
    "collapsed": true
   },
   "outputs": [],
   "source": [
    "user_to_index_map = {}\n",
    "index_to_user_lookup = list(data1.keys())\n",
    "\n",
    "for i, key in enumerate(data1.keys()):\n",
    "    user_to_index_map[key] = i\n"
   ]
  },
  {
   "cell_type": "code",
   "execution_count": 8,
   "metadata": {
    "collapsed": true
   },
   "outputs": [],
   "source": [
    "vlist = g.add_vertex(len(index_to_user_lookup))"
   ]
  },
  {
   "cell_type": "code",
   "execution_count": 9,
   "metadata": {
    "collapsed": true
   },
   "outputs": [],
   "source": [
    "node_ids = g.new_vertex_property(\"string\")   \n",
    "for (i, key) in enumerate(index_to_user_lookup):\n",
    "    node_ids[g.vertex(i)] = key"
   ]
  },
  {
   "cell_type": "markdown",
   "metadata": {},
   "source": [
    "### Adding friendships to the graph \n",
    "##### And storing any users that haven't been created yet (these are users that we have no reviews or other information about)"
   ]
  },
  {
   "cell_type": "code",
   "execution_count": null,
   "metadata": {
    "collapsed": true
   },
   "outputs": [],
   "source": [
    "\n",
    "for i, (key, friends) in enumerate(data1.items()):\n",
    "    user_vert = g.vertex(user_to_index_map[key])\n",
    "    for friend in friends:\n",
    "        if friend not in user_to_index_map:\n",
    "            user_to_index_map[friend] = len(index_to_user_lookup)\n",
    "            index_to_user_lookup.append(friend)\n",
    "            friend_vert = g.add_vertex(1)\n",
    "            node_ids[friend_vert] = friend\n",
    "            g.vertex_index[friend_vert] == user_to_index_map[friend]\n",
    "        friend_vert = g.vertex(user_to_index_map[friend])\n",
    "        g.add_edge(user_vert, friend_vert)"
   ]
  },
  {
   "cell_type": "markdown",
   "metadata": {},
   "source": [
    "### Save the graph and the user_id to and from user_index mappings\n",
    "\n",
    "##### Of real interest: The .gz file (which is custom to graph_tool) takes up 345MB of space. The standard .graphml file takes up 3.27GB of space! Let's use the .gz file in my humble opinion"
   ]
  },
  {
   "cell_type": "code",
   "execution_count": 20,
   "metadata": {
    "collapsed": true
   },
   "outputs": [],
   "source": [
    "g.save(\"graphs/friend_network.xml.gz\")"
   ]
  },
  {
   "cell_type": "code",
   "execution_count": 21,
   "metadata": {
    "collapsed": true
   },
   "outputs": [],
   "source": [
    "with open('graphs/user_graph_mappings.p', 'wb') as f: \n",
    "    pickle.dump([user_to_index_map, index_to_user_lookup], f)"
   ]
  },
  {
   "cell_type": "code",
   "execution_count": 22,
   "metadata": {
    "collapsed": true
   },
   "outputs": [],
   "source": [
    "g.save(\"graphs/friend_network.graphml\", fmt='graphml')"
   ]
  }
 ],
 "metadata": {
  "kernelspec": {
   "display_name": "Python [conda env:3.6default]",
   "language": "python",
   "name": "conda-env-3.6default-py"
  },
  "language_info": {
   "codemirror_mode": {
    "name": "ipython",
    "version": 3
   },
   "file_extension": ".py",
   "mimetype": "text/x-python",
   "name": "python",
   "nbconvert_exporter": "python",
   "pygments_lexer": "ipython3",
   "version": "3.6.2"
  }
 },
 "nbformat": 4,
 "nbformat_minor": 2
}
