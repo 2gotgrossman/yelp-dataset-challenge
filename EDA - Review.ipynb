{
 "cells": [
  {
   "cell_type": "code",
   "execution_count": 3,
   "metadata": {
    "collapsed": true
   },
   "outputs": [],
   "source": [
    "import json\n",
    "from collections import Counter\n",
    "from matplotlib import pyplot as plt\n",
    "import statistics\n",
    "%matplotlib inline\n",
    "import gc"
   ]
  },
  {
   "cell_type": "code",
   "execution_count": 2,
   "metadata": {
    "collapsed": true
   },
   "outputs": [],
   "source": [
    "jsons = []\n",
    "with open(\"dataset/review.json\") as f:\n",
    "    for i, line in enumerate(f):\n",
    "        jsons.append(json.loads(line))"
   ]
  },
  {
   "cell_type": "code",
   "execution_count": 4,
   "metadata": {},
   "outputs": [
    {
     "data": {
      "text/plain": [
       "4"
      ]
     },
     "execution_count": 4,
     "metadata": {},
     "output_type": "execute_result"
    }
   ],
   "source": [
    "gc.collect()"
   ]
  },
  {
   "cell_type": "code",
   "execution_count": 7,
   "metadata": {},
   "outputs": [
    {
     "name": "stdout",
     "output_type": "stream",
     "text": [
      "[\n",
      "    {\n",
      "        \"business_id\": \"iJ4uoZkPNJ39Vfh0HirI3w\",\n",
      "        \"cool\": 2,\n",
      "        \"date\": \"2015-07-19\",\n",
      "        \"funny\": 3,\n",
      "        \"review_id\": \"JRMc2ESqsYYHCMsMlWyx-Q\",\n",
      "        \"stars\": 3,\n",
      "        \"text\": \"Downtown LV is trying so hard to be Hipster central....and it's working!  Joining the neighborhood is the new hipster ramen shop, Itsy Bitsy :) \\n\\nWith modern decor and somewhat uncomfortable/disturbing artwork, but also a slew of punny and well-named cocktails and cute brass colored bar chairs, this place fits right in to the DTLV scene. Service was friendly, and the staff were all very young and enthusiastic! \\n\\nHowever, the ramen was just mehhhhhhh. The soy egg it came with was way too salty, and the toppings were stingy. The noodles were ok, not as bouncy as I usually like them, and the broth was overall just ok. I got the thick noodles with tonkatsu broth plus spicy meat. The spicy ground pork was nice, but the char sui pork was almost all fat and had little flavor. \\n\\nWe did order the pork potstickers to share, which was probably the highlight of the meal. The skin had nice texture and the bottoms were nice and crispy. However the filling wasn't anything to be excited about. \\n\\nAlso, weird thing...the sinks for the bathrooms are outside? \\n\\nOverall, I would NOT drive into downtown just for this ramen, but if I was already here, I wouldn't mind coming again.\",\n",
      "        \"useful\": 4,\n",
      "        \"user_id\": \"cQU8IWVEJYcklBJbW9CzdQ\"\n",
      "    },\n",
      "    {\n",
      "        \"business_id\": \"iJ4uoZkPNJ39Vfh0HirI3w\",\n",
      "        \"cool\": 2,\n",
      "        \"date\": \"2015-09-07\",\n",
      "        \"funny\": 1,\n",
      "        \"review_id\": \"VW304lsvKZ5KgXHqt_V3wA\",\n",
      "        \"stars\": 5,\n",
      "        \"text\": \"After three days of working an anime convention (and living on pizza and Del Taco), I really really REALLY wanted some ramen. I've been meaning to try this place out for a while and after ending up Downtown said, \\\"It's on.\\\"\\n\\nOrdered the build-your- own ramen and did it with thick noodles, tonkotsu broth, extra pork and sweet corn. The broth was amazing: salty, slightly creamy, life affirming. The pork was super tender and adding the sweet corn was definitely a good move since it added a nice sweet component to the saltiness. Got some mint and chip mochi for dessert and that was great, too.\\n\\nThe service is excellent and very friendly (not something I necessarily expect from places Downtown anymore, but that's another discussion). I'll definitely be back.\",\n",
      "        \"useful\": 4,\n",
      "        \"user_id\": \"7HOBCw1pTaZU5qcqwwNy3w\"\n",
      "    },\n",
      "    {\n",
      "        \"business_id\": \"iJ4uoZkPNJ39Vfh0HirI3w\",\n",
      "        \"cool\": 0,\n",
      "        \"date\": \"2015-09-10\",\n",
      "        \"funny\": 2,\n",
      "        \"review_id\": \"8gikTIY-HRdGg7FnRNldng\",\n",
      "        \"stars\": 2,\n",
      "        \"text\": \"I'll give this place 2-stars as I'm all for supporting up and coming fresh places. \\n\\nBut hmmm...\\n\\nThe first time I came here I ordered the ramen and it was very ordinary with an odd flavor. It took 40 mins on a quite nite to make a take out soup. I was too tired to give a crap . When the soup finally came, I had to remind the waitress \\\"I need to pay.\\\" If I only knew the soup was going to taste like my kid made it without a recipe. \\n\\nThe second time it was served warm, however it did not have the weird taste. They did remake the dish. \\n\\nNice decor ... But staff need training. Perhaps they previously worked at Burger King. I don't know....\\n\\nI think in a few month they may have their shit together.\",\n",
      "        \"useful\": 1,\n",
      "        \"user_id\": \"Q-ydrhfqmmOxRb38H6mmEQ\"\n",
      "    },\n",
      "    {\n",
      "        \"business_id\": \"iJ4uoZkPNJ39Vfh0HirI3w\",\n",
      "        \"cool\": 0,\n",
      "        \"date\": \"2015-04-21\",\n",
      "        \"funny\": 0,\n",
      "        \"review_id\": \"3BCbmgjBhro-RZQUjM0Xxg\",\n",
      "        \"stars\": 5,\n",
      "        \"text\": \"The vibe here is awesome. Great art & music. \\n\\nNow for the food...\\n\\nI'm biased, but the food is awesome. Prices are perfect for lunch or late night. \\nThe salmon bowl is my favorite. Especially with the sticky rice they use. \\nRamen isn't traditional from what I hear, but I'll gladly slurp it up any day.  \\n\\nPork potstickers, street corn, garlic edamame, miso... And the sake to me. \\n\\nYUM.\",\n",
      "        \"useful\": 1,\n",
      "        \"user_id\": \"i6KWlHBp3WwnlBACWvrsUw\"\n",
      "    },\n",
      "    {\n",
      "        \"business_id\": \"iJ4uoZkPNJ39Vfh0HirI3w\",\n",
      "        \"cool\": 0,\n",
      "        \"date\": \"2016-06-24\",\n",
      "        \"funny\": 0,\n",
      "        \"review_id\": \"zVqfgEqvIvLDpUc4hjTubw\",\n",
      "        \"stars\": 5,\n",
      "        \"text\": \"This place was amazing! It's a little past Fremont street but worth the wander. We popped in in the mid afternoon probably about four. The place looked great and the food was waaaaay better. I did the build your own bowl thing with the miso broth soooo good. Next time I'm in Vegas it's a for sure stop!\",\n",
      "        \"useful\": 0,\n",
      "        \"user_id\": \"_zMsJzjl6fXHb9mmr1l9Wg\"\n",
      "    }\n",
      "]\n"
     ]
    }
   ],
   "source": [
    "print(json.dumps(jsons[-5:], indent=4, sort_keys=True))"
   ]
  },
  {
   "cell_type": "code",
   "execution_count": null,
   "metadata": {
    "collapsed": true
   },
   "outputs": [],
   "source": []
  }
 ],
 "metadata": {
  "kernelspec": {
   "display_name": "Python [conda env:3.6default]",
   "language": "python",
   "name": "conda-env-3.6default-py"
  },
  "language_info": {
   "codemirror_mode": {
    "name": "ipython",
    "version": 3
   },
   "file_extension": ".py",
   "mimetype": "text/x-python",
   "name": "python",
   "nbconvert_exporter": "python",
   "pygments_lexer": "ipython3",
   "version": "3.6.2"
  }
 },
 "nbformat": 4,
 "nbformat_minor": 2
}
