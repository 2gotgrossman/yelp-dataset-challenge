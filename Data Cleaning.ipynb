{
 "cells": [
  {
   "cell_type": "code",
   "execution_count": 1,
   "metadata": {
    "collapsed": true
   },
   "outputs": [],
   "source": [
    "import sys\n",
    "from collections import defaultdict\n",
    "\n",
    "import pandas as pd\n",
    "# import matplotlib.pyplot as plt\n",
    "# %matplotlib inline\n",
    "import sqlite3 as sql"
   ]
  },
  {
   "cell_type": "markdown",
   "metadata": {},
   "source": [
    "# Here's What We're Going To Do\n",
    "\n",
    "## 1. Subset Data by Category\n",
    "    a. See affect on businesses, number of reviews, Users\n",
    "    b. See affect on Tips, Photos\n",
    "## 2. Subset Data by City\n",
    "\n",
    "*Ideally, we can make some good abstractions in the process*"
   ]
  },
  {
   "cell_type": "code",
   "execution_count": 2,
   "metadata": {
    "collapsed": true
   },
   "outputs": [],
   "source": [
    "conn = sql.connect(\"dataset/database.sqlite\")"
   ]
  },
  {
   "cell_type": "code",
   "execution_count": 3,
   "metadata": {},
   "outputs": [
    {
     "data": {
      "text/html": [
       "<div>\n",
       "<style scoped>\n",
       "    .dataframe tbody tr th:only-of-type {\n",
       "        vertical-align: middle;\n",
       "    }\n",
       "\n",
       "    .dataframe tbody tr th {\n",
       "        vertical-align: top;\n",
       "    }\n",
       "\n",
       "    .dataframe thead th {\n",
       "        text-align: right;\n",
       "    }\n",
       "</style>\n",
       "<table border=\"1\" class=\"dataframe\">\n",
       "  <thead>\n",
       "    <tr style=\"text-align: right;\">\n",
       "      <th></th>\n",
       "      <th>id</th>\n",
       "      <th>name</th>\n",
       "      <th>neighborhood</th>\n",
       "      <th>address</th>\n",
       "      <th>city</th>\n",
       "      <th>state</th>\n",
       "      <th>postal_code</th>\n",
       "      <th>latitude</th>\n",
       "      <th>longitude</th>\n",
       "      <th>stars</th>\n",
       "      <th>review_count</th>\n",
       "      <th>is_open</th>\n",
       "    </tr>\n",
       "  </thead>\n",
       "  <tbody>\n",
       "    <tr>\n",
       "      <th>0</th>\n",
       "      <td>--6MefnULPED_I942VcFNA</td>\n",
       "      <td>John's Chinese BBQ Restaurant</td>\n",
       "      <td></td>\n",
       "      <td>328 Highway 7 E, Chalmers Gate 11, Unit 10</td>\n",
       "      <td>Richmond Hill</td>\n",
       "      <td>ON</td>\n",
       "      <td>L4B 3P7</td>\n",
       "      <td>43.8409</td>\n",
       "      <td>-79.3996</td>\n",
       "      <td>3.0</td>\n",
       "      <td>30</td>\n",
       "      <td>1</td>\n",
       "    </tr>\n",
       "    <tr>\n",
       "      <th>1</th>\n",
       "      <td>--7zmmkVg-IMGaXbuVd0SQ</td>\n",
       "      <td>Primal Brewery</td>\n",
       "      <td></td>\n",
       "      <td>16432 Old Statesville Rd</td>\n",
       "      <td>Huntersville</td>\n",
       "      <td>NC</td>\n",
       "      <td>28078</td>\n",
       "      <td>35.4371</td>\n",
       "      <td>-80.8437</td>\n",
       "      <td>4.0</td>\n",
       "      <td>42</td>\n",
       "      <td>1</td>\n",
       "    </tr>\n",
       "    <tr>\n",
       "      <th>2</th>\n",
       "      <td>--8LPVSo5i0Oo61X01sV9A</td>\n",
       "      <td>Valley Bone and Joint Specialists</td>\n",
       "      <td></td>\n",
       "      <td>3941 E Baseline Rd, Ste 102</td>\n",
       "      <td>Gilbert</td>\n",
       "      <td>AZ</td>\n",
       "      <td>85234</td>\n",
       "      <td>33.3795</td>\n",
       "      <td>-111.7280</td>\n",
       "      <td>4.5</td>\n",
       "      <td>3</td>\n",
       "      <td>1</td>\n",
       "    </tr>\n",
       "    <tr>\n",
       "      <th>3</th>\n",
       "      <td>--9e1ONYQuAa-CB_Rrw7Tw</td>\n",
       "      <td>Delmonico Steakhouse</td>\n",
       "      <td>The Strip</td>\n",
       "      <td>3355 Las Vegas Blvd S</td>\n",
       "      <td>Las Vegas</td>\n",
       "      <td>NV</td>\n",
       "      <td>89109</td>\n",
       "      <td>36.1232</td>\n",
       "      <td>-115.1690</td>\n",
       "      <td>4.0</td>\n",
       "      <td>1389</td>\n",
       "      <td>1</td>\n",
       "    </tr>\n",
       "    <tr>\n",
       "      <th>4</th>\n",
       "      <td>--9QQLMTbFzLJ_oT-ON3Xw</td>\n",
       "      <td>Great Clips</td>\n",
       "      <td></td>\n",
       "      <td>1835 E Guadalupe Rd, Ste 106</td>\n",
       "      <td>Tempe</td>\n",
       "      <td>AZ</td>\n",
       "      <td>85283</td>\n",
       "      <td>33.3617</td>\n",
       "      <td>-111.9100</td>\n",
       "      <td>3.0</td>\n",
       "      <td>9</td>\n",
       "      <td>1</td>\n",
       "    </tr>\n",
       "  </tbody>\n",
       "</table>\n",
       "</div>"
      ],
      "text/plain": [
       "                       id                               name neighborhood  \\\n",
       "0  --6MefnULPED_I942VcFNA      John's Chinese BBQ Restaurant                \n",
       "1  --7zmmkVg-IMGaXbuVd0SQ                     Primal Brewery                \n",
       "2  --8LPVSo5i0Oo61X01sV9A  Valley Bone and Joint Specialists                \n",
       "3  --9e1ONYQuAa-CB_Rrw7Tw               Delmonico Steakhouse    The Strip   \n",
       "4  --9QQLMTbFzLJ_oT-ON3Xw                        Great Clips                \n",
       "\n",
       "                                      address           city state  \\\n",
       "0  328 Highway 7 E, Chalmers Gate 11, Unit 10  Richmond Hill    ON   \n",
       "1                    16432 Old Statesville Rd   Huntersville    NC   \n",
       "2                 3941 E Baseline Rd, Ste 102        Gilbert    AZ   \n",
       "3                       3355 Las Vegas Blvd S      Las Vegas    NV   \n",
       "4                1835 E Guadalupe Rd, Ste 106          Tempe    AZ   \n",
       "\n",
       "  postal_code  latitude  longitude  stars  review_count  is_open  \n",
       "0     L4B 3P7   43.8409   -79.3996    3.0            30        1  \n",
       "1       28078   35.4371   -80.8437    4.0            42        1  \n",
       "2       85234   33.3795  -111.7280    4.5             3        1  \n",
       "3       89109   36.1232  -115.1690    4.0          1389        1  \n",
       "4       85283   33.3617  -111.9100    3.0             9        1  "
      ]
     },
     "execution_count": 3,
     "metadata": {},
     "output_type": "execute_result"
    }
   ],
   "source": [
    "df = pd.read_sql_query(\"select * from business\", conn)\n",
    "df.head()"
   ]
  },
  {
   "cell_type": "markdown",
   "metadata": {},
   "source": [
    "## 1. Subset Data by Category"
   ]
  },
  {
   "cell_type": "code",
   "execution_count": 4,
   "metadata": {},
   "outputs": [
    {
     "data": {
      "text/html": [
       "<div>\n",
       "<style scoped>\n",
       "    .dataframe tbody tr th:only-of-type {\n",
       "        vertical-align: middle;\n",
       "    }\n",
       "\n",
       "    .dataframe tbody tr th {\n",
       "        vertical-align: top;\n",
       "    }\n",
       "\n",
       "    .dataframe thead th {\n",
       "        text-align: right;\n",
       "    }\n",
       "</style>\n",
       "<table border=\"1\" class=\"dataframe\">\n",
       "  <thead>\n",
       "    <tr style=\"text-align: right;\">\n",
       "      <th></th>\n",
       "      <th>business_id</th>\n",
       "      <th>category</th>\n",
       "    </tr>\n",
       "  </thead>\n",
       "  <tbody>\n",
       "    <tr>\n",
       "      <th>0</th>\n",
       "      <td>YDf95gJZaq05wvo7hTQbbQ</td>\n",
       "      <td>Shopping</td>\n",
       "    </tr>\n",
       "    <tr>\n",
       "      <th>1</th>\n",
       "      <td>YDf95gJZaq05wvo7hTQbbQ</td>\n",
       "      <td>Shopping Centers</td>\n",
       "    </tr>\n",
       "    <tr>\n",
       "      <th>2</th>\n",
       "      <td>mLwM-h2YhXl2NCgdS84_Bw</td>\n",
       "      <td>Food</td>\n",
       "    </tr>\n",
       "    <tr>\n",
       "      <th>3</th>\n",
       "      <td>mLwM-h2YhXl2NCgdS84_Bw</td>\n",
       "      <td>Soul Food</td>\n",
       "    </tr>\n",
       "    <tr>\n",
       "      <th>4</th>\n",
       "      <td>mLwM-h2YhXl2NCgdS84_Bw</td>\n",
       "      <td>Convenience Stores</td>\n",
       "    </tr>\n",
       "  </tbody>\n",
       "</table>\n",
       "</div>"
      ],
      "text/plain": [
       "              business_id            category\n",
       "0  YDf95gJZaq05wvo7hTQbbQ            Shopping\n",
       "1  YDf95gJZaq05wvo7hTQbbQ    Shopping Centers\n",
       "2  mLwM-h2YhXl2NCgdS84_Bw                Food\n",
       "3  mLwM-h2YhXl2NCgdS84_Bw           Soul Food\n",
       "4  mLwM-h2YhXl2NCgdS84_Bw  Convenience Stores"
      ]
     },
     "execution_count": 4,
     "metadata": {},
     "output_type": "execute_result"
    }
   ],
   "source": [
    "df_cat = pd.read_sql_query(\"select * from category\", conn)\n",
    "df_cat.head()"
   ]
  },
  {
   "cell_type": "code",
   "execution_count": 5,
   "metadata": {
    "collapsed": true
   },
   "outputs": [],
   "source": [
    "categ = set(['Restaurants', 'Food', 'Bars'])"
   ]
  },
  {
   "cell_type": "code",
   "execution_count": 6,
   "metadata": {
    "collapsed": true
   },
   "outputs": [],
   "source": [
    "category_sets = defaultdict(set)\n",
    "for row in df_cat.itertuples():\n",
    "    cat = getattr(row, 'category')\n",
    "    if cat in categ:\n",
    "        bus_id = getattr(row, 'business_id')\n",
    "        category_sets[cat].add(bus_id)"
   ]
  },
  {
   "cell_type": "code",
   "execution_count": 7,
   "metadata": {},
   "outputs": [
    {
     "name": "stdout",
     "output_type": "stream",
     "text": [
      "Number of Businesses in our subset: :   67882\n",
      "Total Number of Businesses          :  156639\n"
     ]
    }
   ],
   "source": [
    "business_subset = set()\n",
    "business_subset.update(category_sets['Restaurants'])\n",
    "business_subset.update(category_sets['Food'])\n",
    "business_subset.update(category_sets['Bars'])\n",
    "print(\"{:<35} : {:>7}\".format(\"Number of Businesses in our subset:\", len(business_subset)))\n",
    "print(\"{:<35} : {:>7}\".format(\"Total Number of Businesses\", df.shape[0]))"
   ]
  },
  {
   "cell_type": "code",
   "execution_count": 8,
   "metadata": {},
   "outputs": [
    {
     "data": {
      "text/plain": [
       "58014"
      ]
     },
     "execution_count": 8,
     "metadata": {},
     "output_type": "execute_result"
    }
   ],
   "source": [
    "len(business_subset - category_sets['Bars'])"
   ]
  },
  {
   "cell_type": "code",
   "execution_count": 9,
   "metadata": {
    "collapsed": true
   },
   "outputs": [],
   "source": [
    "business_subset_list = list(business_subset)"
   ]
  },
  {
   "cell_type": "code",
   "execution_count": 10,
   "metadata": {
    "scrolled": true
   },
   "outputs": [
    {
     "data": {
      "text/html": [
       "<div>\n",
       "<style scoped>\n",
       "    .dataframe tbody tr th:only-of-type {\n",
       "        vertical-align: middle;\n",
       "    }\n",
       "\n",
       "    .dataframe tbody tr th {\n",
       "        vertical-align: top;\n",
       "    }\n",
       "\n",
       "    .dataframe thead th {\n",
       "        text-align: right;\n",
       "    }\n",
       "</style>\n",
       "<table border=\"1\" class=\"dataframe\">\n",
       "  <thead>\n",
       "    <tr style=\"text-align: right;\">\n",
       "      <th></th>\n",
       "      <th>user_id</th>\n",
       "      <th>business_id</th>\n",
       "    </tr>\n",
       "  </thead>\n",
       "  <tbody>\n",
       "    <tr>\n",
       "      <th>0</th>\n",
       "      <td>gVmUR8rqUFdbSeZbsg6z_w</td>\n",
       "      <td>Ue6-WhXvI-_1xUIuapl0zQ</td>\n",
       "    </tr>\n",
       "    <tr>\n",
       "      <th>1</th>\n",
       "      <td>Y6qylbHq8QJmaCRSlKdIog</td>\n",
       "      <td>Ae4ABFarGMaI5lk1i98A0w</td>\n",
       "    </tr>\n",
       "    <tr>\n",
       "      <th>2</th>\n",
       "      <td>SnXZkRN9Yf060pNTk1HMDg</td>\n",
       "      <td>lKq4Qsz13FDcAVgp49uukQ</td>\n",
       "    </tr>\n",
       "    <tr>\n",
       "      <th>3</th>\n",
       "      <td>VcmSgvslHAhqWoEn16wjjw</td>\n",
       "      <td>6nKR80xEGHYf2UxAe_Cu_g</td>\n",
       "    </tr>\n",
       "    <tr>\n",
       "      <th>4</th>\n",
       "      <td>NKF9v-r0jd1p0JVi9h2T1w</td>\n",
       "      <td>Z_mJYg3vi8cPZHa1J4BALw</td>\n",
       "    </tr>\n",
       "  </tbody>\n",
       "</table>\n",
       "</div>"
      ],
      "text/plain": [
       "                  user_id             business_id\n",
       "0  gVmUR8rqUFdbSeZbsg6z_w  Ue6-WhXvI-_1xUIuapl0zQ\n",
       "1  Y6qylbHq8QJmaCRSlKdIog  Ae4ABFarGMaI5lk1i98A0w\n",
       "2  SnXZkRN9Yf060pNTk1HMDg  lKq4Qsz13FDcAVgp49uukQ\n",
       "3  VcmSgvslHAhqWoEn16wjjw  6nKR80xEGHYf2UxAe_Cu_g\n",
       "4  NKF9v-r0jd1p0JVi9h2T1w  Z_mJYg3vi8cPZHa1J4BALw"
      ]
     },
     "execution_count": 10,
     "metadata": {},
     "output_type": "execute_result"
    }
   ],
   "source": [
    "df_reviews = pd.read_sql_query(\"select user_id, business_id from review\", conn)\n",
    "df_reviews.head()"
   ]
  },
  {
   "cell_type": "markdown",
   "metadata": {
    "collapsed": true
   },
   "source": [
    "df_reviews = df_reviews[['user_id', 'business_id']]"
   ]
  },
  {
   "cell_type": "code",
   "execution_count": 11,
   "metadata": {
    "collapsed": true
   },
   "outputs": [],
   "source": [
    "users_subset = set()\n",
    "num_reviews_subset = 0\n",
    "for row in df_reviews.itertuples():\n",
    "    bus_id = getattr(row, 'business_id')\n",
    "    if bus_id in business_subset:\n",
    "        users_subset.add(getattr(row, 'user_id'))\n",
    "        num_reviews_subset += 1\n",
    "    "
   ]
  },
  {
   "cell_type": "code",
   "execution_count": 12,
   "metadata": {},
   "outputs": [
    {
     "name": "stdout",
     "output_type": "stream",
     "text": [
      "Number of Users in our subset: :  869207\n",
      "Total Number of Users          : 1183362\n"
     ]
    }
   ],
   "source": [
    "num_users_total = len(set(df_reviews.user_id))\n",
    "print(\"{:<30} : {:>7}\".format(\"Number of Users in our subset:\", len(users_subset)))\n",
    "print(\"{:<30} : {:>7}\".format(\"Total Number of Users\", num_users_total))"
   ]
  },
  {
   "cell_type": "code",
   "execution_count": 13,
   "metadata": {
    "scrolled": true
   },
   "outputs": [
    {
     "name": "stdout",
     "output_type": "stream",
     "text": [
      "Number of Reviews in our subset     : 3306658\n",
      "Total Number of Reviews             : 4736897\n"
     ]
    }
   ],
   "source": [
    "print(\"{:<35} : {:>7}\".format(\"Number of Reviews in our subset\", num_reviews_subset))\n",
    "print(\"{:<35} : {:>7}\".format(\"Total Number of Reviews\", df_reviews.shape[0]))"
   ]
  },
  {
   "cell_type": "code",
   "execution_count": 14,
   "metadata": {},
   "outputs": [
    {
     "data": {
      "text/html": [
       "<div>\n",
       "<style scoped>\n",
       "    .dataframe tbody tr th:only-of-type {\n",
       "        vertical-align: middle;\n",
       "    }\n",
       "\n",
       "    .dataframe tbody tr th {\n",
       "        vertical-align: top;\n",
       "    }\n",
       "\n",
       "    .dataframe thead th {\n",
       "        text-align: right;\n",
       "    }\n",
       "</style>\n",
       "<table border=\"1\" class=\"dataframe\">\n",
       "  <thead>\n",
       "    <tr style=\"text-align: right;\">\n",
       "      <th></th>\n",
       "      <th>business_id</th>\n",
       "      <th>category</th>\n",
       "    </tr>\n",
       "  </thead>\n",
       "  <tbody>\n",
       "    <tr>\n",
       "      <th>0</th>\n",
       "      <td>YDf95gJZaq05wvo7hTQbbQ</td>\n",
       "      <td>Shopping</td>\n",
       "    </tr>\n",
       "    <tr>\n",
       "      <th>1</th>\n",
       "      <td>YDf95gJZaq05wvo7hTQbbQ</td>\n",
       "      <td>Shopping Centers</td>\n",
       "    </tr>\n",
       "    <tr>\n",
       "      <th>2</th>\n",
       "      <td>mLwM-h2YhXl2NCgdS84_Bw</td>\n",
       "      <td>Food</td>\n",
       "    </tr>\n",
       "    <tr>\n",
       "      <th>3</th>\n",
       "      <td>mLwM-h2YhXl2NCgdS84_Bw</td>\n",
       "      <td>Soul Food</td>\n",
       "    </tr>\n",
       "    <tr>\n",
       "      <th>4</th>\n",
       "      <td>mLwM-h2YhXl2NCgdS84_Bw</td>\n",
       "      <td>Convenience Stores</td>\n",
       "    </tr>\n",
       "  </tbody>\n",
       "</table>\n",
       "</div>"
      ],
      "text/plain": [
       "              business_id            category\n",
       "0  YDf95gJZaq05wvo7hTQbbQ            Shopping\n",
       "1  YDf95gJZaq05wvo7hTQbbQ    Shopping Centers\n",
       "2  mLwM-h2YhXl2NCgdS84_Bw                Food\n",
       "3  mLwM-h2YhXl2NCgdS84_Bw           Soul Food\n",
       "4  mLwM-h2YhXl2NCgdS84_Bw  Convenience Stores"
      ]
     },
     "execution_count": 14,
     "metadata": {},
     "output_type": "execute_result"
    }
   ],
   "source": [
    "df_cat.head()"
   ]
  },
  {
   "cell_type": "markdown",
   "metadata": {},
   "source": [
    "## Results from the Category subsetting"
   ]
  },
  {
   "cell_type": "code",
   "execution_count": 15,
   "metadata": {},
   "outputs": [
    {
     "name": "stdout",
     "output_type": "stream",
     "text": [
      "Number of Businesses in our subset: :   67882\n",
      "Total Number of Businesses          :  156639\n",
      "\n",
      "Number of Users in our subset:      :  869207\n",
      "Total Number of Users               : 1183362\n",
      "\n",
      "Number of Reviews in our subset     : 3306658\n",
      "Total Number of Reviews             : 4736897\n"
     ]
    }
   ],
   "source": [
    "print(\"{:<35} : {:>7}\".format(\"Number of Businesses in our subset:\", len(business_subset)))\n",
    "print(\"{:<35} : {:>7}\".format(\"Total Number of Businesses\", df.shape[0]))\n",
    "print()\n",
    "print(\"{:<35} : {:>7}\".format(\"Number of Users in our subset:\", len(users_subset)))\n",
    "print(\"{:<35} : {:>7}\".format(\"Total Number of Users\", num_users_total))\n",
    "print()\n",
    "print(\"{:<35} : {:>7}\".format(\"Number of Reviews in our subset\", num_reviews_subset))\n",
    "print(\"{:<35} : {:>7}\".format(\"Total Number of Reviews\", df_reviews.shape[0]))"
   ]
  },
  {
   "cell_type": "markdown",
   "metadata": {},
   "source": [
    "# 2. Subset Data by City"
   ]
  },
  {
   "cell_type": "code",
   "execution_count": 16,
   "metadata": {},
   "outputs": [
    {
     "data": {
      "text/plain": [
       "11"
      ]
     },
     "execution_count": 16,
     "metadata": {},
     "output_type": "execute_result"
    }
   ],
   "source": [
    "city_lat_long_dict = {\n",
    "    'las_vegas' : (36.1699, -115.1398),\n",
    "    'phoenix' : (33.4484, -112.0740),\n",
    "    'champaign' : (40.1164, -88.2434),\n",
    "    'madison' : (43.0731, -89.4012),\n",
    "    'cleveland' : (41.4993, -81.6944),\n",
    "    'pittsburgh' : (40.4406, -79.9959),\n",
    "    'toronto' : (43.6532, -79.3832),\n",
    "    'montreal' : (45.5017, -73.5673),\n",
    "    'charlotte' : (35.2271, -80.8431),\n",
    "    'stuttgart' : (48.7758, 9.1829),\n",
    "    'endinburgh' : (55.9533, -3.1883)\n",
    "}\n",
    "len(city_lat_long_dict)"
   ]
  },
  {
   "cell_type": "markdown",
   "metadata": {},
   "source": [
    "#### So we have a list of businesses but now need the dataframe with those businesses. At the very least, a list of tuples with business_id, lat, long"
   ]
  },
  {
   "cell_type": "code",
   "execution_count": 17,
   "metadata": {},
   "outputs": [
    {
     "data": {
      "text/plain": [
       "67882"
      ]
     },
     "execution_count": 17,
     "metadata": {},
     "output_type": "execute_result"
    }
   ],
   "source": [
    "len(business_subset)"
   ]
  },
  {
   "cell_type": "code",
   "execution_count": 18,
   "metadata": {},
   "outputs": [
    {
     "data": {
      "text/html": [
       "<div>\n",
       "<style scoped>\n",
       "    .dataframe tbody tr th:only-of-type {\n",
       "        vertical-align: middle;\n",
       "    }\n",
       "\n",
       "    .dataframe tbody tr th {\n",
       "        vertical-align: top;\n",
       "    }\n",
       "\n",
       "    .dataframe thead th {\n",
       "        text-align: right;\n",
       "    }\n",
       "</style>\n",
       "<table border=\"1\" class=\"dataframe\">\n",
       "  <thead>\n",
       "    <tr style=\"text-align: right;\">\n",
       "      <th></th>\n",
       "      <th>id</th>\n",
       "      <th>name</th>\n",
       "      <th>neighborhood</th>\n",
       "      <th>address</th>\n",
       "      <th>city</th>\n",
       "      <th>state</th>\n",
       "      <th>postal_code</th>\n",
       "      <th>latitude</th>\n",
       "      <th>longitude</th>\n",
       "      <th>stars</th>\n",
       "      <th>review_count</th>\n",
       "      <th>is_open</th>\n",
       "    </tr>\n",
       "  </thead>\n",
       "  <tbody>\n",
       "    <tr>\n",
       "      <th>0</th>\n",
       "      <td>--6MefnULPED_I942VcFNA</td>\n",
       "      <td>John's Chinese BBQ Restaurant</td>\n",
       "      <td></td>\n",
       "      <td>328 Highway 7 E, Chalmers Gate 11, Unit 10</td>\n",
       "      <td>Richmond Hill</td>\n",
       "      <td>ON</td>\n",
       "      <td>L4B 3P7</td>\n",
       "      <td>43.8409</td>\n",
       "      <td>-79.3996</td>\n",
       "      <td>3.0</td>\n",
       "      <td>30</td>\n",
       "      <td>1</td>\n",
       "    </tr>\n",
       "    <tr>\n",
       "      <th>1</th>\n",
       "      <td>--7zmmkVg-IMGaXbuVd0SQ</td>\n",
       "      <td>Primal Brewery</td>\n",
       "      <td></td>\n",
       "      <td>16432 Old Statesville Rd</td>\n",
       "      <td>Huntersville</td>\n",
       "      <td>NC</td>\n",
       "      <td>28078</td>\n",
       "      <td>35.4371</td>\n",
       "      <td>-80.8437</td>\n",
       "      <td>4.0</td>\n",
       "      <td>42</td>\n",
       "      <td>1</td>\n",
       "    </tr>\n",
       "    <tr>\n",
       "      <th>3</th>\n",
       "      <td>--9e1ONYQuAa-CB_Rrw7Tw</td>\n",
       "      <td>Delmonico Steakhouse</td>\n",
       "      <td>The Strip</td>\n",
       "      <td>3355 Las Vegas Blvd S</td>\n",
       "      <td>Las Vegas</td>\n",
       "      <td>NV</td>\n",
       "      <td>89109</td>\n",
       "      <td>36.1232</td>\n",
       "      <td>-115.1690</td>\n",
       "      <td>4.0</td>\n",
       "      <td>1389</td>\n",
       "      <td>1</td>\n",
       "    </tr>\n",
       "    <tr>\n",
       "      <th>7</th>\n",
       "      <td>--cjBEbXMI2obtaRHNSFrA</td>\n",
       "      <td>Howl at the Moon</td>\n",
       "      <td>Downtown</td>\n",
       "      <td>125 7th St</td>\n",
       "      <td>Pittsburgh</td>\n",
       "      <td>PA</td>\n",
       "      <td>15222</td>\n",
       "      <td>40.4439</td>\n",
       "      <td>-80.0002</td>\n",
       "      <td>3.0</td>\n",
       "      <td>44</td>\n",
       "      <td>1</td>\n",
       "    </tr>\n",
       "    <tr>\n",
       "      <th>8</th>\n",
       "      <td>--cZ6Hhc9F7VkKXxHMVZSQ</td>\n",
       "      <td>Pio Pio</td>\n",
       "      <td>Dilworth</td>\n",
       "      <td>1408 E Blvd</td>\n",
       "      <td>Charlotte</td>\n",
       "      <td>NC</td>\n",
       "      <td>28203</td>\n",
       "      <td>35.1999</td>\n",
       "      <td>-80.8448</td>\n",
       "      <td>4.0</td>\n",
       "      <td>299</td>\n",
       "      <td>1</td>\n",
       "    </tr>\n",
       "  </tbody>\n",
       "</table>\n",
       "</div>"
      ],
      "text/plain": [
       "                       id                           name neighborhood  \\\n",
       "0  --6MefnULPED_I942VcFNA  John's Chinese BBQ Restaurant                \n",
       "1  --7zmmkVg-IMGaXbuVd0SQ                 Primal Brewery                \n",
       "3  --9e1ONYQuAa-CB_Rrw7Tw           Delmonico Steakhouse    The Strip   \n",
       "7  --cjBEbXMI2obtaRHNSFrA               Howl at the Moon     Downtown   \n",
       "8  --cZ6Hhc9F7VkKXxHMVZSQ                        Pio Pio     Dilworth   \n",
       "\n",
       "                                      address           city state  \\\n",
       "0  328 Highway 7 E, Chalmers Gate 11, Unit 10  Richmond Hill    ON   \n",
       "1                    16432 Old Statesville Rd   Huntersville    NC   \n",
       "3                       3355 Las Vegas Blvd S      Las Vegas    NV   \n",
       "7                                  125 7th St     Pittsburgh    PA   \n",
       "8                                 1408 E Blvd      Charlotte    NC   \n",
       "\n",
       "  postal_code  latitude  longitude  stars  review_count  is_open  \n",
       "0     L4B 3P7   43.8409   -79.3996    3.0            30        1  \n",
       "1       28078   35.4371   -80.8437    4.0            42        1  \n",
       "3       89109   36.1232  -115.1690    4.0          1389        1  \n",
       "7       15222   40.4439   -80.0002    3.0            44        1  \n",
       "8       28203   35.1999   -80.8448    4.0           299        1  "
      ]
     },
     "execution_count": 18,
     "metadata": {},
     "output_type": "execute_result"
    }
   ],
   "source": [
    "df_business_subset = df[df['id'].isin(business_subset)]\n",
    "df_business_subset.head()"
   ]
  },
  {
   "cell_type": "code",
   "execution_count": 19,
   "metadata": {},
   "outputs": [
    {
     "name": "stderr",
     "output_type": "stream",
     "text": [
      "/Users/David/anaconda/envs/3.6default/lib/python3.6/site-packages/pandas/core/indexing.py:357: SettingWithCopyWarning: \n",
      "A value is trying to be set on a copy of a slice from a DataFrame.\n",
      "Try using .loc[row_indexer,col_indexer] = value instead\n",
      "\n",
      "See the caveats in the documentation: http://pandas.pydata.org/pandas-docs/stable/indexing.html#indexing-view-versus-copy\n",
      "  self.obj[key] = _infer_fill_value(value)\n",
      "/Users/David/anaconda/envs/3.6default/lib/python3.6/site-packages/pandas/core/indexing.py:537: SettingWithCopyWarning: \n",
      "A value is trying to be set on a copy of a slice from a DataFrame.\n",
      "Try using .loc[row_indexer,col_indexer] = value instead\n",
      "\n",
      "See the caveats in the documentation: http://pandas.pydata.org/pandas-docs/stable/indexing.html#indexing-view-versus-copy\n",
      "  self.obj[item] = s\n"
     ]
    }
   ],
   "source": [
    "df_business_subset.loc[:,'metropolitan_area'] = None\n",
    "df_business_subset.loc[:,'distance_from_metropolitan_center'] = None"
   ]
  },
  {
   "cell_type": "code",
   "execution_count": 22,
   "metadata": {},
   "outputs": [],
   "source": [
    "for row in df_business_subset[['latitude', 'longitude']].itertuples():\n",
    "    lat = getattr(row, 'latitude')\n",
    "    long = getattr(row, 'longitude')\n",
    "    closest_city = None\n",
    "    closest_dist = 0\n",
    "    for city, (true_lat, true_long) in city_lat_long_dict.items():\n",
    "        dist = (true_lat - lat)**2 + (true_long - long)**2\n",
    "        if dist < closest_dist or not closest_city:\n",
    "            closest_city = city\n",
    "            closest_dist = dist\n",
    "    df_business_subset.at[row[0], 'metropolitan_area'] = closest_city\n",
    "    df_business_subset.at[row[0], 'distance_from_metropolitan_center'] = closest_dist"
   ]
  },
  {
   "cell_type": "code",
   "execution_count": 25,
   "metadata": {},
   "outputs": [
    {
     "data": {
      "text/html": [
       "<div>\n",
       "<style scoped>\n",
       "    .dataframe tbody tr th:only-of-type {\n",
       "        vertical-align: middle;\n",
       "    }\n",
       "\n",
       "    .dataframe tbody tr th {\n",
       "        vertical-align: top;\n",
       "    }\n",
       "\n",
       "    .dataframe thead th {\n",
       "        text-align: right;\n",
       "    }\n",
       "</style>\n",
       "<table border=\"1\" class=\"dataframe\">\n",
       "  <thead>\n",
       "    <tr style=\"text-align: right;\">\n",
       "      <th></th>\n",
       "      <th>id</th>\n",
       "      <th>name</th>\n",
       "      <th>neighborhood</th>\n",
       "      <th>address</th>\n",
       "      <th>city</th>\n",
       "      <th>state</th>\n",
       "      <th>postal_code</th>\n",
       "      <th>latitude</th>\n",
       "      <th>longitude</th>\n",
       "      <th>stars</th>\n",
       "      <th>review_count</th>\n",
       "      <th>is_open</th>\n",
       "      <th>metropolitan_area</th>\n",
       "      <th>distance_from_metropolitan_center</th>\n",
       "    </tr>\n",
       "  </thead>\n",
       "  <tbody>\n",
       "    <tr>\n",
       "      <th>0</th>\n",
       "      <td>--6MefnULPED_I942VcFNA</td>\n",
       "      <td>John's Chinese BBQ Restaurant</td>\n",
       "      <td></td>\n",
       "      <td>328 Highway 7 E, Chalmers Gate 11, Unit 10</td>\n",
       "      <td>Richmond Hill</td>\n",
       "      <td>ON</td>\n",
       "      <td>L4B 3P7</td>\n",
       "      <td>43.8409</td>\n",
       "      <td>-79.3996</td>\n",
       "      <td>3.0</td>\n",
       "      <td>30</td>\n",
       "      <td>1</td>\n",
       "      <td>toronto</td>\n",
       "      <td>0.0355002</td>\n",
       "    </tr>\n",
       "    <tr>\n",
       "      <th>1</th>\n",
       "      <td>--7zmmkVg-IMGaXbuVd0SQ</td>\n",
       "      <td>Primal Brewery</td>\n",
       "      <td></td>\n",
       "      <td>16432 Old Statesville Rd</td>\n",
       "      <td>Huntersville</td>\n",
       "      <td>NC</td>\n",
       "      <td>28078</td>\n",
       "      <td>35.4371</td>\n",
       "      <td>-80.8437</td>\n",
       "      <td>4.0</td>\n",
       "      <td>42</td>\n",
       "      <td>1</td>\n",
       "      <td>charlotte</td>\n",
       "      <td>0.0441004</td>\n",
       "    </tr>\n",
       "    <tr>\n",
       "      <th>3</th>\n",
       "      <td>--9e1ONYQuAa-CB_Rrw7Tw</td>\n",
       "      <td>Delmonico Steakhouse</td>\n",
       "      <td>The Strip</td>\n",
       "      <td>3355 Las Vegas Blvd S</td>\n",
       "      <td>Las Vegas</td>\n",
       "      <td>NV</td>\n",
       "      <td>89109</td>\n",
       "      <td>36.1232</td>\n",
       "      <td>-115.1690</td>\n",
       "      <td>4.0</td>\n",
       "      <td>1389</td>\n",
       "      <td>1</td>\n",
       "      <td>las_vegas</td>\n",
       "      <td>0.00303353</td>\n",
       "    </tr>\n",
       "    <tr>\n",
       "      <th>7</th>\n",
       "      <td>--cjBEbXMI2obtaRHNSFrA</td>\n",
       "      <td>Howl at the Moon</td>\n",
       "      <td>Downtown</td>\n",
       "      <td>125 7th St</td>\n",
       "      <td>Pittsburgh</td>\n",
       "      <td>PA</td>\n",
       "      <td>15222</td>\n",
       "      <td>40.4439</td>\n",
       "      <td>-80.0002</td>\n",
       "      <td>3.0</td>\n",
       "      <td>44</td>\n",
       "      <td>1</td>\n",
       "      <td>pittsburgh</td>\n",
       "      <td>2.938e-05</td>\n",
       "    </tr>\n",
       "    <tr>\n",
       "      <th>8</th>\n",
       "      <td>--cZ6Hhc9F7VkKXxHMVZSQ</td>\n",
       "      <td>Pio Pio</td>\n",
       "      <td>Dilworth</td>\n",
       "      <td>1408 E Blvd</td>\n",
       "      <td>Charlotte</td>\n",
       "      <td>NC</td>\n",
       "      <td>28203</td>\n",
       "      <td>35.1999</td>\n",
       "      <td>-80.8448</td>\n",
       "      <td>4.0</td>\n",
       "      <td>299</td>\n",
       "      <td>1</td>\n",
       "      <td>charlotte</td>\n",
       "      <td>0.00074273</td>\n",
       "    </tr>\n",
       "  </tbody>\n",
       "</table>\n",
       "</div>"
      ],
      "text/plain": [
       "                       id                           name neighborhood  \\\n",
       "0  --6MefnULPED_I942VcFNA  John's Chinese BBQ Restaurant                \n",
       "1  --7zmmkVg-IMGaXbuVd0SQ                 Primal Brewery                \n",
       "3  --9e1ONYQuAa-CB_Rrw7Tw           Delmonico Steakhouse    The Strip   \n",
       "7  --cjBEbXMI2obtaRHNSFrA               Howl at the Moon     Downtown   \n",
       "8  --cZ6Hhc9F7VkKXxHMVZSQ                        Pio Pio     Dilworth   \n",
       "\n",
       "                                      address           city state  \\\n",
       "0  328 Highway 7 E, Chalmers Gate 11, Unit 10  Richmond Hill    ON   \n",
       "1                    16432 Old Statesville Rd   Huntersville    NC   \n",
       "3                       3355 Las Vegas Blvd S      Las Vegas    NV   \n",
       "7                                  125 7th St     Pittsburgh    PA   \n",
       "8                                 1408 E Blvd      Charlotte    NC   \n",
       "\n",
       "  postal_code  latitude  longitude  stars  review_count  is_open  \\\n",
       "0     L4B 3P7   43.8409   -79.3996    3.0            30        1   \n",
       "1       28078   35.4371   -80.8437    4.0            42        1   \n",
       "3       89109   36.1232  -115.1690    4.0          1389        1   \n",
       "7       15222   40.4439   -80.0002    3.0            44        1   \n",
       "8       28203   35.1999   -80.8448    4.0           299        1   \n",
       "\n",
       "  metropolitan_area distance_from_metropolitan_center  \n",
       "0           toronto                         0.0355002  \n",
       "1         charlotte                         0.0441004  \n",
       "3         las_vegas                        0.00303353  \n",
       "7        pittsburgh                         2.938e-05  \n",
       "8         charlotte                        0.00074273  "
      ]
     },
     "execution_count": 25,
     "metadata": {},
     "output_type": "execute_result"
    }
   ],
   "source": [
    "df_business_subset.head()"
   ]
  },
  {
   "cell_type": "code",
   "execution_count": 31,
   "metadata": {},
   "outputs": [
    {
     "data": {
      "text/plain": [
       "(67882, 14)"
      ]
     },
     "execution_count": 31,
     "metadata": {},
     "output_type": "execute_result"
    }
   ],
   "source": [
    "df_business_subset.shape"
   ]
  },
  {
   "cell_type": "markdown",
   "metadata": {},
   "source": [
    "## See what happens when we only keep businesses within .1 square lat/longs"
   ]
  },
  {
   "cell_type": "code",
   "execution_count": 32,
   "metadata": {},
   "outputs": [],
   "source": [
    "# Remember: we are in lat-long squared...There could be weird conversions\n",
    "\n",
    "df_business_subset2 = df_business_subset[df_business_subset.distance_from_metropolitan_center < .1]"
   ]
  },
  {
   "cell_type": "code",
   "execution_count": 34,
   "metadata": {
    "collapsed": true
   },
   "outputs": [],
   "source": [
    "users_subset_with_dist = set()\n",
    "num_reviews_subset_with_dist = 0\n",
    "for row in df_reviews.itertuples():\n",
    "    bus_id = getattr(row, 'business_id')\n",
    "    if bus_id in business_subset:\n",
    "        users_subset_with_dist.add(getattr(row, 'user_id'))\n",
    "        num_reviews_subset_with_dist += 1\n",
    "    "
   ]
  },
  {
   "cell_type": "code",
   "execution_count": 35,
   "metadata": {},
   "outputs": [
    {
     "name": "stdout",
     "output_type": "stream",
     "text": [
      "Number of Users in our subset: :  869207\n",
      "Total Number of Users          : 1183362\n",
      "\n",
      "Number of Reviews in our subset     : 3306658\n",
      "Total Number of Reviews             : 4736897\n"
     ]
    }
   ],
   "source": [
    "num_users_total = len(set(df_reviews.user_id))\n",
    "print(\"{:<30} : {:>7}\".format(\"Number of Users in our subset:\", len(users_subset_with_dist)))\n",
    "print(\"{:<30} : {:>7}\".format(\"Total Number of Users\", num_users_total))\n",
    "print()\n",
    "print(\"{:<35} : {:>7}\".format(\"Number of Reviews in our subset\", num_reviews_subset_with_dist))\n",
    "print(\"{:<35} : {:>7}\".format(\"Total Number of Reviews\", df_reviews.shape[0]))"
   ]
  },
  {
   "cell_type": "code",
   "execution_count": null,
   "metadata": {
    "collapsed": true
   },
   "outputs": [],
   "source": [
    "df_total.to_sql('checkin_total', conn, index = False)"
   ]
  },
  {
   "cell_type": "code",
   "execution_count": 42,
   "metadata": {},
   "outputs": [
    {
     "data": {
      "text/plain": [
       "'CREATE TABLE \"business_subset\" (\\n\"index\" INTEGER,\\n  \"id\" TEXT,\\n  \"name\" TEXT,\\n  \"neighborhood\" TEXT,\\n  \"address\" TEXT,\\n  \"city\" TEXT,\\n  \"state\" TEXT,\\n  \"postal_code\" TEXT,\\n  \"latitude\" REAL,\\n  \"longitude\" REAL,\\n  \"stars\" REAL,\\n  \"review_count\" INTEGER,\\n  \"is_open\" INTEGER,\\n  \"metropolitan_area\" TEXT,\\n  \"distance_from_metropolitan_center\" REAL\\n)'"
      ]
     },
     "execution_count": 42,
     "metadata": {},
     "output_type": "execute_result"
    }
   ],
   "source": [
    "pd.read_sql_query(\"SELECT * FROM sqlite_master where type='table'\", conn).at[13, 'sql']"
   ]
  },
  {
   "cell_type": "code",
   "execution_count": 38,
   "metadata": {},
   "outputs": [],
   "source": [
    "temp = pd.read_sql_query(\"select * from business2\", conn)"
   ]
  },
  {
   "cell_type": "code",
   "execution_count": 39,
   "metadata": {},
   "outputs": [
    {
     "data": {
      "text/html": [
       "<div>\n",
       "<style scoped>\n",
       "    .dataframe tbody tr th:only-of-type {\n",
       "        vertical-align: middle;\n",
       "    }\n",
       "\n",
       "    .dataframe tbody tr th {\n",
       "        vertical-align: top;\n",
       "    }\n",
       "\n",
       "    .dataframe thead th {\n",
       "        text-align: right;\n",
       "    }\n",
       "</style>\n",
       "<table border=\"1\" class=\"dataframe\">\n",
       "  <thead>\n",
       "    <tr style=\"text-align: right;\">\n",
       "      <th></th>\n",
       "      <th>id</th>\n",
       "      <th>name</th>\n",
       "      <th>neighborhood</th>\n",
       "      <th>address</th>\n",
       "      <th>city</th>\n",
       "      <th>state</th>\n",
       "      <th>postal_code</th>\n",
       "      <th>latitude</th>\n",
       "      <th>longitude</th>\n",
       "      <th>stars</th>\n",
       "      <th>review_count</th>\n",
       "      <th>is_open</th>\n",
       "      <th>tip_count</th>\n",
       "      <th>photo_count</th>\n",
       "    </tr>\n",
       "  </thead>\n",
       "  <tbody>\n",
       "    <tr>\n",
       "      <th>0</th>\n",
       "      <td>--6MefnULPED_I942VcFNA</td>\n",
       "      <td>John's Chinese BBQ Restaurant</td>\n",
       "      <td></td>\n",
       "      <td>328 Highway 7 E, Chalmers Gate 11, Unit 10</td>\n",
       "      <td>Richmond Hill</td>\n",
       "      <td>ON</td>\n",
       "      <td>L4B 3P7</td>\n",
       "      <td>43.8409</td>\n",
       "      <td>-79.3996</td>\n",
       "      <td>3.0</td>\n",
       "      <td>30</td>\n",
       "      <td>1</td>\n",
       "      <td>12.0</td>\n",
       "      <td>1.0</td>\n",
       "    </tr>\n",
       "    <tr>\n",
       "      <th>1</th>\n",
       "      <td>--7zmmkVg-IMGaXbuVd0SQ</td>\n",
       "      <td>Primal Brewery</td>\n",
       "      <td></td>\n",
       "      <td>16432 Old Statesville Rd</td>\n",
       "      <td>Huntersville</td>\n",
       "      <td>NC</td>\n",
       "      <td>28078</td>\n",
       "      <td>35.4371</td>\n",
       "      <td>-80.8437</td>\n",
       "      <td>4.0</td>\n",
       "      <td>42</td>\n",
       "      <td>1</td>\n",
       "      <td>10.0</td>\n",
       "      <td>NaN</td>\n",
       "    </tr>\n",
       "    <tr>\n",
       "      <th>2</th>\n",
       "      <td>--8LPVSo5i0Oo61X01sV9A</td>\n",
       "      <td>Valley Bone and Joint Specialists</td>\n",
       "      <td></td>\n",
       "      <td>3941 E Baseline Rd, Ste 102</td>\n",
       "      <td>Gilbert</td>\n",
       "      <td>AZ</td>\n",
       "      <td>85234</td>\n",
       "      <td>33.3795</td>\n",
       "      <td>-111.7280</td>\n",
       "      <td>4.5</td>\n",
       "      <td>3</td>\n",
       "      <td>1</td>\n",
       "      <td>NaN</td>\n",
       "      <td>NaN</td>\n",
       "    </tr>\n",
       "    <tr>\n",
       "      <th>3</th>\n",
       "      <td>--9e1ONYQuAa-CB_Rrw7Tw</td>\n",
       "      <td>Delmonico Steakhouse</td>\n",
       "      <td>The Strip</td>\n",
       "      <td>3355 Las Vegas Blvd S</td>\n",
       "      <td>Las Vegas</td>\n",
       "      <td>NV</td>\n",
       "      <td>89109</td>\n",
       "      <td>36.1232</td>\n",
       "      <td>-115.1690</td>\n",
       "      <td>4.0</td>\n",
       "      <td>1389</td>\n",
       "      <td>1</td>\n",
       "      <td>144.0</td>\n",
       "      <td>127.0</td>\n",
       "    </tr>\n",
       "    <tr>\n",
       "      <th>4</th>\n",
       "      <td>--9QQLMTbFzLJ_oT-ON3Xw</td>\n",
       "      <td>Great Clips</td>\n",
       "      <td></td>\n",
       "      <td>1835 E Guadalupe Rd, Ste 106</td>\n",
       "      <td>Tempe</td>\n",
       "      <td>AZ</td>\n",
       "      <td>85283</td>\n",
       "      <td>33.3617</td>\n",
       "      <td>-111.9100</td>\n",
       "      <td>3.0</td>\n",
       "      <td>9</td>\n",
       "      <td>1</td>\n",
       "      <td>2.0</td>\n",
       "      <td>NaN</td>\n",
       "    </tr>\n",
       "  </tbody>\n",
       "</table>\n",
       "</div>"
      ],
      "text/plain": [
       "                       id                               name neighborhood  \\\n",
       "0  --6MefnULPED_I942VcFNA      John's Chinese BBQ Restaurant                \n",
       "1  --7zmmkVg-IMGaXbuVd0SQ                     Primal Brewery                \n",
       "2  --8LPVSo5i0Oo61X01sV9A  Valley Bone and Joint Specialists                \n",
       "3  --9e1ONYQuAa-CB_Rrw7Tw               Delmonico Steakhouse    The Strip   \n",
       "4  --9QQLMTbFzLJ_oT-ON3Xw                        Great Clips                \n",
       "\n",
       "                                      address           city state  \\\n",
       "0  328 Highway 7 E, Chalmers Gate 11, Unit 10  Richmond Hill    ON   \n",
       "1                    16432 Old Statesville Rd   Huntersville    NC   \n",
       "2                 3941 E Baseline Rd, Ste 102        Gilbert    AZ   \n",
       "3                       3355 Las Vegas Blvd S      Las Vegas    NV   \n",
       "4                1835 E Guadalupe Rd, Ste 106          Tempe    AZ   \n",
       "\n",
       "  postal_code  latitude  longitude  stars  review_count  is_open  tip_count  \\\n",
       "0     L4B 3P7   43.8409   -79.3996    3.0            30        1       12.0   \n",
       "1       28078   35.4371   -80.8437    4.0            42        1       10.0   \n",
       "2       85234   33.3795  -111.7280    4.5             3        1        NaN   \n",
       "3       89109   36.1232  -115.1690    4.0          1389        1      144.0   \n",
       "4       85283   33.3617  -111.9100    3.0             9        1        2.0   \n",
       "\n",
       "   photo_count  \n",
       "0          1.0  \n",
       "1          NaN  \n",
       "2          NaN  \n",
       "3        127.0  \n",
       "4          NaN  "
      ]
     },
     "execution_count": 39,
     "metadata": {},
     "output_type": "execute_result"
    }
   ],
   "source": [
    "temp.head()"
   ]
  },
  {
   "cell_type": "code",
   "execution_count": 40,
   "metadata": {
    "collapsed": true
   },
   "outputs": [],
   "source": [
    "df_business_subset.to_sql('business_subset', conn)"
   ]
  },
  {
   "cell_type": "code",
   "execution_count": 43,
   "metadata": {
    "collapsed": true
   },
   "outputs": [],
   "source": [
    "df_business_subset2.to_sql('business_subset_with_distance', conn)"
   ]
  },
  {
   "cell_type": "code",
   "execution_count": null,
   "metadata": {
    "collapsed": true
   },
   "outputs": [],
   "source": []
  }
 ],
 "metadata": {
  "kernelspec": {
   "display_name": "Python 3.6default",
   "language": "python",
   "name": "3.6default"
  },
  "language_info": {
   "codemirror_mode": {
    "name": "ipython",
    "version": 3
   },
   "file_extension": ".py",
   "mimetype": "text/x-python",
   "name": "python",
   "nbconvert_exporter": "python",
   "pygments_lexer": "ipython3",
   "version": "3.6.2"
  }
 },
 "nbformat": 4,
 "nbformat_minor": 2
}
